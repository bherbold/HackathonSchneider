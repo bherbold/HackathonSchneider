{
 "cells": [
  {
   "cell_type": "markdown",
   "metadata": {},
   "source": [
    "# EXERCISE\n",
    "# Supervised Learning: Classification.\n",
    "\n",
    "## *Binary electricity price classification in the Day-Ahead Spot Market*"
   ]
  },
  {
   "cell_type": "markdown",
   "metadata": {},
   "source": [
    "**Objective:** Imagining that we are in the middle of 2020, predict in which hours the price of electricity in the Day-Ahead Market will be high, being **class 0** for values lower than 40 €, and **class 1** for values higher than 40 €.  We will use the context and historical data for **2020** of the target variable we want to classify and other features that can help to predict the model.\n",
    "\n",
    "### Before you start:\n",
    "\n",
    "* In the file **EJ2-data-prices.xlsx** is the input dataset for this example (attributes + label). \n",
    "* Data from January 2, 2020 to June 26, 2020.\n"
   ]
  },
  {
   "cell_type": "markdown",
   "metadata": {},
   "source": [
    "## **Import libraries and data**\n"
   ]
  },
  {
   "cell_type": "code",
   "execution_count": 9,
   "metadata": {},
   "outputs": [
    {
     "name": "stdout",
     "output_type": "stream",
     "text": [
      "Collecting opencv-python\n",
      "  Downloading opencv_python-4.6.0.66-cp36-abi3-macosx_10_15_x86_64.whl (46.4 MB)\n",
      "\u001b[K     |████████████████████████████████| 46.4 MB 8.2 MB/s eta 0:00:01\n",
      "\u001b[?25hRequirement already satisfied: numpy>=1.14.5 in /Users/bendiksherbold/opt/anaconda3/lib/python3.9/site-packages (from opencv-python) (1.21.5)\n",
      "Installing collected packages: opencv-python\n",
      "Successfully installed opencv-python-4.6.0.66\n",
      "Note: you may need to restart the kernel to use updated packages.\n"
     ]
    }
   ],
   "source": [
    "#pip install opencv-python"
   ]
  },
  {
   "cell_type": "code",
   "execution_count": 1,
   "metadata": {},
   "outputs": [
    {
     "name": "stderr",
     "output_type": "stream",
     "text": [
      "2022-11-19 11:23:54.418253: I tensorflow/core/platform/cpu_feature_guard.cc:193] This TensorFlow binary is optimized with oneAPI Deep Neural Network Library (oneDNN) to use the following CPU instructions in performance-critical operations:  AVX2 FMA\n",
      "To enable them in other operations, rebuild TensorFlow with the appropriate compiler flags.\n"
     ]
    }
   ],
   "source": [
    "import matplotlib.pyplot as plt\n",
    "import pandas as pd\n",
    "import matplotlib.pyplot as plt\n",
    "import numpy as np\n",
    "from keras.models import Sequential\n",
    "from keras.layers import Dense\n",
    "from keras.utils import np_utils\n",
    "import cv2\n"
   ]
  },
  {
   "cell_type": "code",
   "execution_count": 57,
   "metadata": {},
   "outputs": [],
   "source": [
    "def import_Pics (path):\n",
    "    img = np.array(cv2.imread(path))\n",
    "    return img\n",
    "\n",
    "def normalize_RGB(matrix):\n",
    "    #m = np.array(matrix)\n",
    "    normize_func = lambda i: i / 255\n",
    "    return matrix.vectorize(normize_func)\n",
    "    \n"
   ]
  },
  {
   "cell_type": "code",
   "execution_count": 58,
   "metadata": {},
   "outputs": [
    {
     "ename": "AttributeError",
     "evalue": "'numpy.ndarray' object has no attribute 'vectorize'",
     "output_type": "error",
     "traceback": [
      "\u001b[0;31m---------------------------------------------------------------------------\u001b[0m",
      "\u001b[0;31mAttributeError\u001b[0m                            Traceback (most recent call last)",
      "Input \u001b[0;32mIn [58]\u001b[0m, in \u001b[0;36m<cell line: 8>\u001b[0;34m()\u001b[0m\n\u001b[1;32m      5\u001b[0m test_data[\u001b[38;5;124m'\u001b[39m\u001b[38;5;124mexample_path\u001b[39m\u001b[38;5;124m'\u001b[39m] \u001b[38;5;241m=\u001b[39m test_data[\u001b[38;5;124m'\u001b[39m\u001b[38;5;124mexample_path\u001b[39m\u001b[38;5;124m'\u001b[39m]\u001b[38;5;241m.\u001b[39mapply(import_Pics)\n\u001b[1;32m      7\u001b[0m \u001b[38;5;66;03m# Normalize data\u001b[39;00m\n\u001b[0;32m----> 8\u001b[0m test_data[\u001b[38;5;124m'\u001b[39m\u001b[38;5;124mexample_path\u001b[39m\u001b[38;5;124m'\u001b[39m] \u001b[38;5;241m=\u001b[39m \u001b[43mtest_data\u001b[49m\u001b[43m[\u001b[49m\u001b[38;5;124;43m'\u001b[39;49m\u001b[38;5;124;43mexample_path\u001b[39;49m\u001b[38;5;124;43m'\u001b[39;49m\u001b[43m]\u001b[49m\u001b[38;5;241;43m.\u001b[39;49m\u001b[43mapply\u001b[49m\u001b[43m(\u001b[49m\u001b[43mnormalize_RGB\u001b[49m\u001b[43m)\u001b[49m\n\u001b[1;32m     10\u001b[0m \u001b[38;5;66;03m#test_data['example_path']\u001b[39;00m\n\u001b[1;32m     11\u001b[0m \u001b[38;5;28mprint\u001b[39m(\u001b[38;5;124m'\u001b[39m\u001b[38;5;124mdone\u001b[39m\u001b[38;5;124m'\u001b[39m)\n",
      "File \u001b[0;32m~/opt/anaconda3/lib/python3.9/site-packages/pandas/core/series.py:4433\u001b[0m, in \u001b[0;36mSeries.apply\u001b[0;34m(self, func, convert_dtype, args, **kwargs)\u001b[0m\n\u001b[1;32m   4323\u001b[0m \u001b[38;5;28;01mdef\u001b[39;00m \u001b[38;5;21mapply\u001b[39m(\n\u001b[1;32m   4324\u001b[0m     \u001b[38;5;28mself\u001b[39m,\n\u001b[1;32m   4325\u001b[0m     func: AggFuncType,\n\u001b[0;32m   (...)\u001b[0m\n\u001b[1;32m   4328\u001b[0m     \u001b[38;5;241m*\u001b[39m\u001b[38;5;241m*\u001b[39mkwargs,\n\u001b[1;32m   4329\u001b[0m ) \u001b[38;5;241m-\u001b[39m\u001b[38;5;241m>\u001b[39m DataFrame \u001b[38;5;241m|\u001b[39m Series:\n\u001b[1;32m   4330\u001b[0m     \u001b[38;5;124;03m\"\"\"\u001b[39;00m\n\u001b[1;32m   4331\u001b[0m \u001b[38;5;124;03m    Invoke function on values of Series.\u001b[39;00m\n\u001b[1;32m   4332\u001b[0m \n\u001b[0;32m   (...)\u001b[0m\n\u001b[1;32m   4431\u001b[0m \u001b[38;5;124;03m    dtype: float64\u001b[39;00m\n\u001b[1;32m   4432\u001b[0m \u001b[38;5;124;03m    \"\"\"\u001b[39;00m\n\u001b[0;32m-> 4433\u001b[0m     \u001b[38;5;28;01mreturn\u001b[39;00m \u001b[43mSeriesApply\u001b[49m\u001b[43m(\u001b[49m\u001b[38;5;28;43mself\u001b[39;49m\u001b[43m,\u001b[49m\u001b[43m \u001b[49m\u001b[43mfunc\u001b[49m\u001b[43m,\u001b[49m\u001b[43m \u001b[49m\u001b[43mconvert_dtype\u001b[49m\u001b[43m,\u001b[49m\u001b[43m \u001b[49m\u001b[43margs\u001b[49m\u001b[43m,\u001b[49m\u001b[43m \u001b[49m\u001b[43mkwargs\u001b[49m\u001b[43m)\u001b[49m\u001b[38;5;241;43m.\u001b[39;49m\u001b[43mapply\u001b[49m\u001b[43m(\u001b[49m\u001b[43m)\u001b[49m\n",
      "File \u001b[0;32m~/opt/anaconda3/lib/python3.9/site-packages/pandas/core/apply.py:1082\u001b[0m, in \u001b[0;36mSeriesApply.apply\u001b[0;34m(self)\u001b[0m\n\u001b[1;32m   1078\u001b[0m \u001b[38;5;28;01mif\u001b[39;00m \u001b[38;5;28misinstance\u001b[39m(\u001b[38;5;28mself\u001b[39m\u001b[38;5;241m.\u001b[39mf, \u001b[38;5;28mstr\u001b[39m):\n\u001b[1;32m   1079\u001b[0m     \u001b[38;5;66;03m# if we are a string, try to dispatch\u001b[39;00m\n\u001b[1;32m   1080\u001b[0m     \u001b[38;5;28;01mreturn\u001b[39;00m \u001b[38;5;28mself\u001b[39m\u001b[38;5;241m.\u001b[39mapply_str()\n\u001b[0;32m-> 1082\u001b[0m \u001b[38;5;28;01mreturn\u001b[39;00m \u001b[38;5;28;43mself\u001b[39;49m\u001b[38;5;241;43m.\u001b[39;49m\u001b[43mapply_standard\u001b[49m\u001b[43m(\u001b[49m\u001b[43m)\u001b[49m\n",
      "File \u001b[0;32m~/opt/anaconda3/lib/python3.9/site-packages/pandas/core/apply.py:1137\u001b[0m, in \u001b[0;36mSeriesApply.apply_standard\u001b[0;34m(self)\u001b[0m\n\u001b[1;32m   1131\u001b[0m         values \u001b[38;5;241m=\u001b[39m obj\u001b[38;5;241m.\u001b[39mastype(\u001b[38;5;28mobject\u001b[39m)\u001b[38;5;241m.\u001b[39m_values\n\u001b[1;32m   1132\u001b[0m         \u001b[38;5;66;03m# error: Argument 2 to \"map_infer\" has incompatible type\u001b[39;00m\n\u001b[1;32m   1133\u001b[0m         \u001b[38;5;66;03m# \"Union[Callable[..., Any], str, List[Union[Callable[..., Any], str]],\u001b[39;00m\n\u001b[1;32m   1134\u001b[0m         \u001b[38;5;66;03m# Dict[Hashable, Union[Union[Callable[..., Any], str],\u001b[39;00m\n\u001b[1;32m   1135\u001b[0m         \u001b[38;5;66;03m# List[Union[Callable[..., Any], str]]]]]\"; expected\u001b[39;00m\n\u001b[1;32m   1136\u001b[0m         \u001b[38;5;66;03m# \"Callable[[Any], Any]\"\u001b[39;00m\n\u001b[0;32m-> 1137\u001b[0m         mapped \u001b[38;5;241m=\u001b[39m \u001b[43mlib\u001b[49m\u001b[38;5;241;43m.\u001b[39;49m\u001b[43mmap_infer\u001b[49m\u001b[43m(\u001b[49m\n\u001b[1;32m   1138\u001b[0m \u001b[43m            \u001b[49m\u001b[43mvalues\u001b[49m\u001b[43m,\u001b[49m\n\u001b[1;32m   1139\u001b[0m \u001b[43m            \u001b[49m\u001b[43mf\u001b[49m\u001b[43m,\u001b[49m\u001b[43m  \u001b[49m\u001b[38;5;66;43;03m# type: ignore[arg-type]\u001b[39;49;00m\n\u001b[1;32m   1140\u001b[0m \u001b[43m            \u001b[49m\u001b[43mconvert\u001b[49m\u001b[38;5;241;43m=\u001b[39;49m\u001b[38;5;28;43mself\u001b[39;49m\u001b[38;5;241;43m.\u001b[39;49m\u001b[43mconvert_dtype\u001b[49m\u001b[43m,\u001b[49m\n\u001b[1;32m   1141\u001b[0m \u001b[43m        \u001b[49m\u001b[43m)\u001b[49m\n\u001b[1;32m   1143\u001b[0m \u001b[38;5;28;01mif\u001b[39;00m \u001b[38;5;28mlen\u001b[39m(mapped) \u001b[38;5;129;01mand\u001b[39;00m \u001b[38;5;28misinstance\u001b[39m(mapped[\u001b[38;5;241m0\u001b[39m], ABCSeries):\n\u001b[1;32m   1144\u001b[0m     \u001b[38;5;66;03m# GH#43986 Need to do list(mapped) in order to get treated as nested\u001b[39;00m\n\u001b[1;32m   1145\u001b[0m     \u001b[38;5;66;03m#  See also GH#25959 regarding EA support\u001b[39;00m\n\u001b[1;32m   1146\u001b[0m     \u001b[38;5;28;01mreturn\u001b[39;00m obj\u001b[38;5;241m.\u001b[39m_constructor_expanddim(\u001b[38;5;28mlist\u001b[39m(mapped), index\u001b[38;5;241m=\u001b[39mobj\u001b[38;5;241m.\u001b[39mindex)\n",
      "File \u001b[0;32m~/opt/anaconda3/lib/python3.9/site-packages/pandas/_libs/lib.pyx:2870\u001b[0m, in \u001b[0;36mpandas._libs.lib.map_infer\u001b[0;34m()\u001b[0m\n",
      "Input \u001b[0;32mIn [57]\u001b[0m, in \u001b[0;36mnormalize_RGB\u001b[0;34m(matrix)\u001b[0m\n\u001b[1;32m      5\u001b[0m \u001b[38;5;28;01mdef\u001b[39;00m \u001b[38;5;21mnormalize_RGB\u001b[39m(matrix):\n\u001b[1;32m      6\u001b[0m     \u001b[38;5;66;03m#m = np.array(matrix)\u001b[39;00m\n\u001b[1;32m      7\u001b[0m     normize_func \u001b[38;5;241m=\u001b[39m \u001b[38;5;28;01mlambda\u001b[39;00m i: i \u001b[38;5;241m/\u001b[39m \u001b[38;5;241m255\u001b[39m\n\u001b[0;32m----> 8\u001b[0m     \u001b[38;5;28;01mreturn\u001b[39;00m \u001b[43mmatrix\u001b[49m\u001b[38;5;241;43m.\u001b[39;49m\u001b[43mvectorize\u001b[49m(normize_func)\n",
      "\u001b[0;31mAttributeError\u001b[0m: 'numpy.ndarray' object has no attribute 'vectorize'"
     ]
    }
   ],
   "source": [
    "# Load the input dataset\n",
    "### your code here\n",
    "\n",
    "test_data = pd.read_csv ('train.csv')\n",
    "test_data['example_path'] = test_data['example_path'].apply(import_Pics)\n",
    "\n",
    "# Normalize data\n",
    "test_data['example_path'] = test_data['example_path'].apply(normalize_RGB)\n",
    "\n",
    "#test_data['example_path']\n",
    "print('done')"
   ]
  },
  {
   "cell_type": "code",
   "execution_count": 39,
   "metadata": {},
   "outputs": [
    {
     "data": {
      "text/html": [
       "<div>\n",
       "<style scoped>\n",
       "    .dataframe tbody tr th:only-of-type {\n",
       "        vertical-align: middle;\n",
       "    }\n",
       "\n",
       "    .dataframe tbody tr th {\n",
       "        vertical-align: top;\n",
       "    }\n",
       "\n",
       "    .dataframe thead th {\n",
       "        text-align: right;\n",
       "    }\n",
       "</style>\n",
       "<table border=\"1\" class=\"dataframe\">\n",
       "  <thead>\n",
       "    <tr style=\"text-align: right;\">\n",
       "      <th></th>\n",
       "      <th>label</th>\n",
       "      <th>latitude</th>\n",
       "      <th>longitude</th>\n",
       "      <th>year</th>\n",
       "      <th>example_path</th>\n",
       "    </tr>\n",
       "  </thead>\n",
       "  <tbody>\n",
       "    <tr>\n",
       "      <th>0</th>\n",
       "      <td>0</td>\n",
       "      <td>-2.051853</td>\n",
       "      <td>111.826093</td>\n",
       "      <td>2001</td>\n",
       "      <td>[[[56, 59, 45], [51, 54, 40], [39, 42, 29], [3...</td>\n",
       "    </tr>\n",
       "    <tr>\n",
       "      <th>1</th>\n",
       "      <td>2</td>\n",
       "      <td>-1.989349</td>\n",
       "      <td>105.309496</td>\n",
       "      <td>2013</td>\n",
       "      <td>[[[10, 27, 18], [11, 27, 18], [1, 16, 11], [8,...</td>\n",
       "    </tr>\n",
       "    <tr>\n",
       "      <th>2</th>\n",
       "      <td>0</td>\n",
       "      <td>1.223256</td>\n",
       "      <td>100.702217</td>\n",
       "      <td>2014</td>\n",
       "      <td>[[[19, 33, 27], [13, 28, 24], [10, 26, 18], [1...</td>\n",
       "    </tr>\n",
       "    <tr>\n",
       "      <th>3</th>\n",
       "      <td>0</td>\n",
       "      <td>-2.342948</td>\n",
       "      <td>103.890226</td>\n",
       "      <td>2008</td>\n",
       "      <td>[[[13, 24, 16], [13, 23, 15], [16, 27, 19], [1...</td>\n",
       "    </tr>\n",
       "    <tr>\n",
       "      <th>4</th>\n",
       "      <td>0</td>\n",
       "      <td>-0.126555</td>\n",
       "      <td>101.758175</td>\n",
       "      <td>2011</td>\n",
       "      <td>[[[14, 31, 35], [13, 30, 32], [15, 32, 37], [2...</td>\n",
       "    </tr>\n",
       "  </tbody>\n",
       "</table>\n",
       "</div>"
      ],
      "text/plain": [
       "   label  latitude   longitude  year  \\\n",
       "0      0 -2.051853  111.826093  2001   \n",
       "1      2 -1.989349  105.309496  2013   \n",
       "2      0  1.223256  100.702217  2014   \n",
       "3      0 -2.342948  103.890226  2008   \n",
       "4      0 -0.126555  101.758175  2011   \n",
       "\n",
       "                                        example_path  \n",
       "0  [[[56, 59, 45], [51, 54, 40], [39, 42, 29], [3...  \n",
       "1  [[[10, 27, 18], [11, 27, 18], [1, 16, 11], [8,...  \n",
       "2  [[[19, 33, 27], [13, 28, 24], [10, 26, 18], [1...  \n",
       "3  [[[13, 24, 16], [13, 23, 15], [16, 27, 19], [1...  \n",
       "4  [[[14, 31, 35], [13, 30, 32], [15, 32, 37], [2...  "
      ]
     },
     "execution_count": 39,
     "metadata": {},
     "output_type": "execute_result"
    }
   ],
   "source": [
    "test_data.head()"
   ]
  },
  {
   "cell_type": "markdown",
   "metadata": {},
   "source": [
    "## **2. Understanding the data**\n",
    "\n",
    "It is necessary to visualize and understand the data we are going to work with, as well as to know its characteristics. \n",
    "\n",
    "1. How much data is there? How many attributes are there in the data?  \n",
    "2. What do they mean?\n",
    "3. Is there any missing data? \n",
    "4. Are the labels balanced? \n",
    "5. Statistical summary of the input data set."
   ]
  },
  {
   "cell_type": "markdown",
   "metadata": {},
   "source": [
    "1. **How much data is there? How many attributes are there in the data?**"
   ]
  },
  {
   "cell_type": "code",
   "execution_count": 40,
   "metadata": {},
   "outputs": [
    {
     "data": {
      "text/plain": [
       "(1714, 5)"
      ]
     },
     "execution_count": 40,
     "metadata": {},
     "output_type": "execute_result"
    }
   ],
   "source": [
    "# Data rows/columns\n",
    "### your code here\n",
    "test_data.shape"
   ]
  },
  {
   "cell_type": "code",
   "execution_count": 41,
   "metadata": {},
   "outputs": [
    {
     "data": {
      "text/html": [
       "<div>\n",
       "<style scoped>\n",
       "    .dataframe tbody tr th:only-of-type {\n",
       "        vertical-align: middle;\n",
       "    }\n",
       "\n",
       "    .dataframe tbody tr th {\n",
       "        vertical-align: top;\n",
       "    }\n",
       "\n",
       "    .dataframe thead th {\n",
       "        text-align: right;\n",
       "    }\n",
       "</style>\n",
       "<table border=\"1\" class=\"dataframe\">\n",
       "  <thead>\n",
       "    <tr style=\"text-align: right;\">\n",
       "      <th></th>\n",
       "      <th>label</th>\n",
       "      <th>latitude</th>\n",
       "      <th>longitude</th>\n",
       "      <th>year</th>\n",
       "      <th>example_path</th>\n",
       "    </tr>\n",
       "  </thead>\n",
       "  <tbody>\n",
       "    <tr>\n",
       "      <th>0</th>\n",
       "      <td>0</td>\n",
       "      <td>-2.051853</td>\n",
       "      <td>111.826093</td>\n",
       "      <td>2001</td>\n",
       "      <td>[[[56, 59, 45], [51, 54, 40], [39, 42, 29], [3...</td>\n",
       "    </tr>\n",
       "    <tr>\n",
       "      <th>1</th>\n",
       "      <td>2</td>\n",
       "      <td>-1.989349</td>\n",
       "      <td>105.309496</td>\n",
       "      <td>2013</td>\n",
       "      <td>[[[10, 27, 18], [11, 27, 18], [1, 16, 11], [8,...</td>\n",
       "    </tr>\n",
       "    <tr>\n",
       "      <th>2</th>\n",
       "      <td>0</td>\n",
       "      <td>1.223256</td>\n",
       "      <td>100.702217</td>\n",
       "      <td>2014</td>\n",
       "      <td>[[[19, 33, 27], [13, 28, 24], [10, 26, 18], [1...</td>\n",
       "    </tr>\n",
       "    <tr>\n",
       "      <th>3</th>\n",
       "      <td>0</td>\n",
       "      <td>-2.342948</td>\n",
       "      <td>103.890226</td>\n",
       "      <td>2008</td>\n",
       "      <td>[[[13, 24, 16], [13, 23, 15], [16, 27, 19], [1...</td>\n",
       "    </tr>\n",
       "    <tr>\n",
       "      <th>4</th>\n",
       "      <td>0</td>\n",
       "      <td>-0.126555</td>\n",
       "      <td>101.758175</td>\n",
       "      <td>2011</td>\n",
       "      <td>[[[14, 31, 35], [13, 30, 32], [15, 32, 37], [2...</td>\n",
       "    </tr>\n",
       "  </tbody>\n",
       "</table>\n",
       "</div>"
      ],
      "text/plain": [
       "   label  latitude   longitude  year  \\\n",
       "0      0 -2.051853  111.826093  2001   \n",
       "1      2 -1.989349  105.309496  2013   \n",
       "2      0  1.223256  100.702217  2014   \n",
       "3      0 -2.342948  103.890226  2008   \n",
       "4      0 -0.126555  101.758175  2011   \n",
       "\n",
       "                                        example_path  \n",
       "0  [[[56, 59, 45], [51, 54, 40], [39, 42, 29], [3...  \n",
       "1  [[[10, 27, 18], [11, 27, 18], [1, 16, 11], [8,...  \n",
       "2  [[[19, 33, 27], [13, 28, 24], [10, 26, 18], [1...  \n",
       "3  [[[13, 24, 16], [13, 23, 15], [16, 27, 19], [1...  \n",
       "4  [[[14, 31, 35], [13, 30, 32], [15, 32, 37], [2...  "
      ]
     },
     "execution_count": 41,
     "metadata": {},
     "output_type": "execute_result"
    }
   ],
   "source": [
    "# Look at the first 5 rows of the data\n",
    "### your code here\n",
    "test_data.head()"
   ]
  },
  {
   "cell_type": "markdown",
   "metadata": {},
   "source": [
    "**2. What do they mean?** \n",
    "\n",
    "***[Time, Day, Month]*** Time, day and month of each of the observations. They are integer values *int64*.\n",
    "\n",
    "***[Hydro, Wind, Cyclocomb, Cogener, Nuclear, Coal, Biomass]*** refers to the hourly scheduled energy of the PVP program in the daily market by type of production of the previous day.  These are actual *float* values.\n",
    "\n",
    "***[Demand]*** is the total scheduled energy in the daily electricity market in Spain on the previous day.  These are real *float* values.\n",
    "\n",
    "***[price-elect-day-previous-day]*** price of electricity on the previous day. These are actual *float* values.\n",
    "\n",
    "***[MIBGAS-previous-day]*** day-ahead natural gas price. These are actual *float* values.\n",
    "\n",
    "***[Classes]*** are the price tags we want to predict.\n",
    "\n",
    "\n"
   ]
  },
  {
   "cell_type": "code",
   "execution_count": 42,
   "metadata": {},
   "outputs": [
    {
     "data": {
      "text/plain": [
       "label             int64\n",
       "latitude        float64\n",
       "longitude       float64\n",
       "year              int64\n",
       "example_path     object\n",
       "dtype: object"
      ]
     },
     "execution_count": 42,
     "metadata": {},
     "output_type": "execute_result"
    }
   ],
   "source": [
    "# Data format\n",
    "### your code here\n",
    "test_data.dtypes\n"
   ]
  },
  {
   "cell_type": "markdown",
   "metadata": {},
   "source": [
    "**3. Is any data missing? If so, please indicate how many and in which attribute**. \n",
    "\n"
   ]
  },
  {
   "cell_type": "code",
   "execution_count": 43,
   "metadata": {},
   "outputs": [
    {
     "data": {
      "text/plain": [
       "label           0\n",
       "latitude        0\n",
       "longitude       0\n",
       "year            0\n",
       "example_path    0\n",
       "dtype: int64"
      ]
     },
     "execution_count": 43,
     "metadata": {},
     "output_type": "execute_result"
    }
   ],
   "source": [
    "### your code here\n",
    "test_data.isna().sum()"
   ]
  },
  {
   "cell_type": "markdown",
   "metadata": {},
   "source": [
    "**4. ¿Are the targets balanced?** "
   ]
  },
  {
   "cell_type": "code",
   "execution_count": 44,
   "metadata": {},
   "outputs": [
    {
     "name": "stdout",
     "output_type": "stream",
     "text": [
      "0    860\n",
      "2    658\n",
      "1    196\n",
      "Name: label, dtype: int64\n"
     ]
    },
    {
     "data": {
      "text/plain": [
       "<AxesSubplot:ylabel='label'>"
      ]
     },
     "execution_count": 44,
     "metadata": {},
     "output_type": "execute_result"
    },
    {
     "data": {
      "image/png": "[encoded data removed]",
      "text/plain": [
       "<Figure size 432x288 with 1 Axes>"
      ]
     },
     "metadata": {},
     "output_type": "display_data"
    }
   ],
   "source": [
    "# Check if the labels are unbalanced\n",
    "### your code here\n",
    "balance_clases = test_data['label'].value_counts()\n",
    "\n",
    "print(balance_clases)\n",
    "\n",
    "# Class balance graph\n",
    "balance_clases.plot.pie()\n"
   ]
  },
  {
   "cell_type": "markdown",
   "metadata": {},
   "source": [
    "**5. Summary statistics of the input data set:** \n",
    "\n",
    "Descriptive statistics collects and analyzes the input data set with the objective of describing the characteristics and behaviors of this set through the following summary measures: total number of observations (count), mean (mean), standard deviation (std), minimum value (min), maximum value (max) and the values of the different quartiles (25%, 50%, 75%).\n"
   ]
  },
  {
   "cell_type": "code",
   "execution_count": 45,
   "metadata": {},
   "outputs": [
    {
     "data": {
      "text/html": [
       "<div>\n",
       "<style scoped>\n",
       "    .dataframe tbody tr th:only-of-type {\n",
       "        vertical-align: middle;\n",
       "    }\n",
       "\n",
       "    .dataframe tbody tr th {\n",
       "        vertical-align: top;\n",
       "    }\n",
       "\n",
       "    .dataframe thead th {\n",
       "        text-align: right;\n",
       "    }\n",
       "</style>\n",
       "<table border=\"1\" class=\"dataframe\">\n",
       "  <thead>\n",
       "    <tr style=\"text-align: right;\">\n",
       "      <th></th>\n",
       "      <th>label</th>\n",
       "      <th>latitude</th>\n",
       "      <th>longitude</th>\n",
       "      <th>year</th>\n",
       "    </tr>\n",
       "  </thead>\n",
       "  <tbody>\n",
       "    <tr>\n",
       "      <th>count</th>\n",
       "      <td>1714.000000</td>\n",
       "      <td>1714.000000</td>\n",
       "      <td>1714.000000</td>\n",
       "      <td>1714.000000</td>\n",
       "    </tr>\n",
       "    <tr>\n",
       "      <th>mean</th>\n",
       "      <td>0.882147</td>\n",
       "      <td>-0.458578</td>\n",
       "      <td>108.696539</td>\n",
       "      <td>2009.770712</td>\n",
       "    </tr>\n",
       "    <tr>\n",
       "      <th>std</th>\n",
       "      <td>0.933952</td>\n",
       "      <td>2.146293</td>\n",
       "      <td>9.136482</td>\n",
       "      <td>4.206081</td>\n",
       "    </tr>\n",
       "    <tr>\n",
       "      <th>min</th>\n",
       "      <td>0.000000</td>\n",
       "      <td>-8.318462</td>\n",
       "      <td>95.902427</td>\n",
       "      <td>2001.000000</td>\n",
       "    </tr>\n",
       "    <tr>\n",
       "      <th>25%</th>\n",
       "      <td>0.000000</td>\n",
       "      <td>-1.916629</td>\n",
       "      <td>101.627073</td>\n",
       "      <td>2007.000000</td>\n",
       "    </tr>\n",
       "    <tr>\n",
       "      <th>50%</th>\n",
       "      <td>0.000000</td>\n",
       "      <td>-0.417759</td>\n",
       "      <td>104.104074</td>\n",
       "      <td>2010.000000</td>\n",
       "    </tr>\n",
       "    <tr>\n",
       "      <th>75%</th>\n",
       "      <td>2.000000</td>\n",
       "      <td>1.062408</td>\n",
       "      <td>114.274851</td>\n",
       "      <td>2013.000000</td>\n",
       "    </tr>\n",
       "    <tr>\n",
       "      <th>max</th>\n",
       "      <td>2.000000</td>\n",
       "      <td>5.014370</td>\n",
       "      <td>140.900849</td>\n",
       "      <td>2016.000000</td>\n",
       "    </tr>\n",
       "  </tbody>\n",
       "</table>\n",
       "</div>"
      ],
      "text/plain": [
       "             label     latitude    longitude         year\n",
       "count  1714.000000  1714.000000  1714.000000  1714.000000\n",
       "mean      0.882147    -0.458578   108.696539  2009.770712\n",
       "std       0.933952     2.146293     9.136482     4.206081\n",
       "min       0.000000    -8.318462    95.902427  2001.000000\n",
       "25%       0.000000    -1.916629   101.627073  2007.000000\n",
       "50%       0.000000    -0.417759   104.104074  2010.000000\n",
       "75%       2.000000     1.062408   114.274851  2013.000000\n",
       "max       2.000000     5.014370   140.900849  2016.000000"
      ]
     },
     "execution_count": 45,
     "metadata": {},
     "output_type": "execute_result"
    }
   ],
   "source": [
    "# Statistical data for each attribute\n",
    "### your code here\n",
    "test_data.describe()"
   ]
  },
  {
   "cell_type": "markdown",
   "metadata": {},
   "source": [
    "## **3. Visualize the data**.\n",
    "\n",
    "A visual way to understand the input data. \n",
    "1. Histogram\n",
    "2. Density curve\n",
    "3. Boxplots\n",
    "4. Correlation matrix\n"
   ]
  },
  {
   "cell_type": "markdown",
   "metadata": {},
   "source": [
    "**1. Histogram**\n",
    "\n",
    "Graphical representation of each of the attributes in the form of bars, where the surface of the bar is proportional to the frequency of the values represented."
   ]
  },
  {
   "cell_type": "code",
   "execution_count": 46,
   "metadata": {},
   "outputs": [
    {
     "data": {
      "image/png": "[encoded data removed]",
      "text/plain": [
       "<Figure size 1080x720 with 4 Axes>"
      ]
     },
     "metadata": {
      "needs_background": "light"
     },
     "output_type": "display_data"
    }
   ],
   "source": [
    "histogram = test_data.hist(xlabelsize=10, ylabelsize=10, bins=50, figsize=(15, 10))"
   ]
  },
  {
   "cell_type": "markdown",
   "metadata": {},
   "source": [
    "**2. Density graph**.\n",
    "\n",
    "Visualizes the distribution of the data. It is a variable of the histogram, but removes noise, so they are better for determining the distribution shape of an attribute. Density plot spikes help show where values are most concentrated. "
   ]
  },
  {
   "cell_type": "code",
   "execution_count": 47,
   "metadata": {},
   "outputs": [
    {
     "data": {
      "image/png": "[encoded data removed]",
      "text/plain": [
       "<Figure size 1224x864 with 16 Axes>"
      ]
     },
     "metadata": {
      "needs_background": "light"
     },
     "output_type": "display_data"
    }
   ],
   "source": [
    "density = test_data.plot(kind='kde', x=4, subplots=True, legend=True, layout=(4, 4), figsize=(17, 12), sharex=False,\n",
    "                        fontsize=8, stacked=True) "
   ]
  },
  {
   "cell_type": "markdown",
   "metadata": {},
   "source": [
    "**3. Boxplots** \n",
    "\n",
    "The boxplot allows us to identify outliers and compare distributions. In addition, we know how 50% of the values are distributed (within the box).\n",
    "\n",
    "* Which attribute is striking because of its outliers? "
   ]
  },
  {
   "cell_type": "code",
   "execution_count": 48,
   "metadata": {},
   "outputs": [
    {
     "data": {
      "image/png": "[encoded data removed]",
      "text/plain": [
       "<Figure size 1080x720 with 16 Axes>"
      ]
     },
     "metadata": {
      "needs_background": "light"
     },
     "output_type": "display_data"
    }
   ],
   "source": [
    "atributs_boxplot = test_data.plot(kind='box', subplots=True, layout=(4, 4), figsize=(15, 10), sharex=False,\n",
    "                                 sharey=False, fontsize=10)"
   ]
  },
  {
   "cell_type": "markdown",
   "metadata": {},
   "source": [
    "**4. Correlation matrix**. \n",
    "We use Spearman's method to evaluate the monotonic relationship between two continuous variables. \n",
    "\n",
    "Comparison between [Pearson y Spearman]\n",
    "\n",
    "[Pearson y Spearman]: https://support.minitab.com/es-mx/minitab/18/help-and-how-to/statistics/basic-statistics/supporting-topics/correlation-and-covariance/a-comparison-of-the-pearson-and-spearman-correlation-methods/\n",
    "\n",
    "\n",
    "* **Which variable has no correlation with any attribute?** "
   ]
  },
  {
   "cell_type": "code",
   "execution_count": 50,
   "metadata": {
    "scrolled": false
   },
   "outputs": [],
   "source": [
    "#  Other data visualization library: seaborn\n",
    "import seaborn as sns\n",
    "\n",
    "# Calculation of correlation coefficients\n",
    "### your code here\n",
    "corr_matrix= test_data.corr(method='spearman')\n",
    "\n"
   ]
  },
  {
   "cell_type": "code",
   "execution_count": 51,
   "metadata": {},
   "outputs": [
    {
     "name": "stderr",
     "output_type": "stream",
     "text": [
      "/var/folders/hb/hsxv_19969b646bj1n59j_3w0000gn/T/ipykernel_32716/351873892.py:2: DeprecationWarning: `np.bool` is a deprecated alias for the builtin `bool`. To silence this warning, use `bool` by itself. Doing this will not modify any behavior and is safe. If you specifically wanted the numpy scalar type, use `np.bool_` here.\n",
      "Deprecated in NumPy 1.20; for more details and guidance: https://numpy.org/devdocs/release/1.20.0-notes.html#deprecations\n",
      "  mask = np.zeros_like(corr_matrix, dtype=np.bool)\n"
     ]
    },
    {
     "data": {
      "image/png": "[encoded data removed]",
      "text/plain": [
       "<Figure size 864x864 with 2 Axes>"
      ]
     },
     "metadata": {
      "needs_background": "light"
     },
     "output_type": "display_data"
    }
   ],
   "source": [
    "\n",
    "# Remove repeated values\n",
    "mask = np.zeros_like(corr_matrix, dtype=np.bool)\n",
    "mask[np.triu_indices_from(mask)] = True\n",
    "\n",
    "  \n",
    "f, ax = plt.subplots(figsize=(12, 12))\n",
    "\n",
    "#Generate Heat Map,\n",
    "sns.heatmap(corr_matrix, annot=True, fmt=\".2f\" , mask=mask,)\n",
    "    # xticks\n",
    "plt.xticks(range(len(corr_matrix.columns)), corr_matrix.columns);\n",
    "    # yticks\n",
    "plt.yticks(range(len(corr_matrix.columns)), corr_matrix.columns)\n",
    "    # plot\n",
    "plt.show()\n",
    "# Prices are missing as it is a object datatype"
   ]
  },
  {
   "cell_type": "markdown",
   "metadata": {},
   "source": [
    "We cannot see the correlation with the price, we must pass it to numeric *LabelEncoder*."
   ]
  },
  {
   "cell_type": "code",
   "execution_count": 13,
   "metadata": {},
   "outputs": [
    {
     "name": "stdout",
     "output_type": "stream",
     "text": [
      "['mayor que  40 euros' 'menor que  40 euros']\n",
      "      hora  dia  mes  hidraul  eolica  demanda  ciclocomb  cogener  nuclear  \\\n",
      "0        0    2    1   5221.1  1639.0  13290.5     2500.5   2493.8   7093.6   \n",
      "1        1    2    1   4928.5  1568.4  12720.1     2411.5   2447.8   7091.6   \n",
      "2        2    2    1   4860.3  1566.3  12558.6     2307.5   2446.6   7092.6   \n",
      "3        3    2    1   4980.8  1781.5  12837.5     2307.5   2436.7   7092.6   \n",
      "4        4    2    1   4984.3  1998.2  13100.9     2374.2   2448.3   7094.6   \n",
      "...    ...  ...  ...      ...     ...      ...        ...      ...      ...   \n",
      "4218    19   26    6   4230.5  3680.1  29267.6     7090.4   3200.0   5061.4   \n",
      "4219    20   26    6   4479.3  3828.2  29025.5     7130.7   3203.2   5063.4   \n",
      "4220    21   26    6   3800.5  3712.7  29266.4     6764.1   3217.7   5062.4   \n",
      "4221    22   26    6   3529.7  3780.1  28711.2     6745.1   3215.0   5064.4   \n",
      "4222    23   26    6   2650.6  3676.9  26581.4     6650.9   3209.0   5065.4   \n",
      "\n",
      "      carbon  biomas  precio-elect-dia-anterior  MIBGAS-dia-anterior  precio  \n",
      "0      430.0     270                      41.88                11.27       1  \n",
      "1      430.0     243                      38.60                11.27       1  \n",
      "2      417.0     362                      36.55                11.27       1  \n",
      "3      387.0     369                      32.32                11.27       1  \n",
      "4      387.0     413                      30.85                11.27       1  \n",
      "...      ...     ...                        ...                  ...     ...  \n",
      "4218   946.0     365                      40.44                 7.28       1  \n",
      "4219   946.0     453                      41.23                 7.28       0  \n",
      "4220   946.0     362                      40.24                 7.28       1  \n",
      "4221   946.0     424                      40.10                 7.28       0  \n",
      "4222   946.0     358                      38.63                 7.28       1  \n",
      "\n",
      "[4223 rows x 14 columns]\n"
     ]
    }
   ],
   "source": [
    "from sklearn.preprocessing import LabelEncoder\n",
    "\n",
    "\n",
    "\n",
    "lab_encoder = LabelEncoder() \n",
    "lab_encoder.fit(dataset['precio'])  \n",
    "print(lab_encoder.classes_)  # Shows the different classes that exist\n",
    "\n",
    "dataset['precio'] = lab_encoder.transform(dataset['precio'])\n",
    "print(dataset)"
   ]
  },
  {
   "cell_type": "code",
   "execution_count": 14,
   "metadata": {},
   "outputs": [],
   "source": [
    "# replace column values 0 with 1 and 1 with 0\n",
    "dataset['precio'] = dataset['precio'].map({1:0 ,0:1})\n",
    "### your code here"
   ]
  },
  {
   "cell_type": "code",
   "execution_count": 15,
   "metadata": {
    "scrolled": true
   },
   "outputs": [
    {
     "data": {
      "text/html": [
       "<div>\n",
       "<style scoped>\n",
       "    .dataframe tbody tr th:only-of-type {\n",
       "        vertical-align: middle;\n",
       "    }\n",
       "\n",
       "    .dataframe tbody tr th {\n",
       "        vertical-align: top;\n",
       "    }\n",
       "\n",
       "    .dataframe thead th {\n",
       "        text-align: right;\n",
       "    }\n",
       "</style>\n",
       "<table border=\"1\" class=\"dataframe\">\n",
       "  <thead>\n",
       "    <tr style=\"text-align: right;\">\n",
       "      <th></th>\n",
       "      <th>hora</th>\n",
       "      <th>dia</th>\n",
       "      <th>mes</th>\n",
       "      <th>hidraul</th>\n",
       "      <th>eolica</th>\n",
       "      <th>demanda</th>\n",
       "      <th>ciclocomb</th>\n",
       "      <th>cogener</th>\n",
       "      <th>nuclear</th>\n",
       "      <th>carbon</th>\n",
       "      <th>biomas</th>\n",
       "      <th>precio-elect-dia-anterior</th>\n",
       "      <th>MIBGAS-dia-anterior</th>\n",
       "      <th>precio</th>\n",
       "    </tr>\n",
       "  </thead>\n",
       "  <tbody>\n",
       "    <tr>\n",
       "      <th>0</th>\n",
       "      <td>0</td>\n",
       "      <td>2</td>\n",
       "      <td>1</td>\n",
       "      <td>5221.1</td>\n",
       "      <td>1639.0</td>\n",
       "      <td>13290.5</td>\n",
       "      <td>2500.5</td>\n",
       "      <td>2493.8</td>\n",
       "      <td>7093.6</td>\n",
       "      <td>430.0</td>\n",
       "      <td>270</td>\n",
       "      <td>41.88</td>\n",
       "      <td>11.27</td>\n",
       "      <td>0</td>\n",
       "    </tr>\n",
       "    <tr>\n",
       "      <th>1</th>\n",
       "      <td>1</td>\n",
       "      <td>2</td>\n",
       "      <td>1</td>\n",
       "      <td>4928.5</td>\n",
       "      <td>1568.4</td>\n",
       "      <td>12720.1</td>\n",
       "      <td>2411.5</td>\n",
       "      <td>2447.8</td>\n",
       "      <td>7091.6</td>\n",
       "      <td>430.0</td>\n",
       "      <td>243</td>\n",
       "      <td>38.60</td>\n",
       "      <td>11.27</td>\n",
       "      <td>0</td>\n",
       "    </tr>\n",
       "    <tr>\n",
       "      <th>2</th>\n",
       "      <td>2</td>\n",
       "      <td>2</td>\n",
       "      <td>1</td>\n",
       "      <td>4860.3</td>\n",
       "      <td>1566.3</td>\n",
       "      <td>12558.6</td>\n",
       "      <td>2307.5</td>\n",
       "      <td>2446.6</td>\n",
       "      <td>7092.6</td>\n",
       "      <td>417.0</td>\n",
       "      <td>362</td>\n",
       "      <td>36.55</td>\n",
       "      <td>11.27</td>\n",
       "      <td>0</td>\n",
       "    </tr>\n",
       "    <tr>\n",
       "      <th>3</th>\n",
       "      <td>3</td>\n",
       "      <td>2</td>\n",
       "      <td>1</td>\n",
       "      <td>4980.8</td>\n",
       "      <td>1781.5</td>\n",
       "      <td>12837.5</td>\n",
       "      <td>2307.5</td>\n",
       "      <td>2436.7</td>\n",
       "      <td>7092.6</td>\n",
       "      <td>387.0</td>\n",
       "      <td>369</td>\n",
       "      <td>32.32</td>\n",
       "      <td>11.27</td>\n",
       "      <td>0</td>\n",
       "    </tr>\n",
       "    <tr>\n",
       "      <th>4</th>\n",
       "      <td>4</td>\n",
       "      <td>2</td>\n",
       "      <td>1</td>\n",
       "      <td>4984.3</td>\n",
       "      <td>1998.2</td>\n",
       "      <td>13100.9</td>\n",
       "      <td>2374.2</td>\n",
       "      <td>2448.3</td>\n",
       "      <td>7094.6</td>\n",
       "      <td>387.0</td>\n",
       "      <td>413</td>\n",
       "      <td>30.85</td>\n",
       "      <td>11.27</td>\n",
       "      <td>0</td>\n",
       "    </tr>\n",
       "    <tr>\n",
       "      <th>...</th>\n",
       "      <td>...</td>\n",
       "      <td>...</td>\n",
       "      <td>...</td>\n",
       "      <td>...</td>\n",
       "      <td>...</td>\n",
       "      <td>...</td>\n",
       "      <td>...</td>\n",
       "      <td>...</td>\n",
       "      <td>...</td>\n",
       "      <td>...</td>\n",
       "      <td>...</td>\n",
       "      <td>...</td>\n",
       "      <td>...</td>\n",
       "      <td>...</td>\n",
       "    </tr>\n",
       "    <tr>\n",
       "      <th>4218</th>\n",
       "      <td>19</td>\n",
       "      <td>26</td>\n",
       "      <td>6</td>\n",
       "      <td>4230.5</td>\n",
       "      <td>3680.1</td>\n",
       "      <td>29267.6</td>\n",
       "      <td>7090.4</td>\n",
       "      <td>3200.0</td>\n",
       "      <td>5061.4</td>\n",
       "      <td>946.0</td>\n",
       "      <td>365</td>\n",
       "      <td>40.44</td>\n",
       "      <td>7.28</td>\n",
       "      <td>0</td>\n",
       "    </tr>\n",
       "    <tr>\n",
       "      <th>4219</th>\n",
       "      <td>20</td>\n",
       "      <td>26</td>\n",
       "      <td>6</td>\n",
       "      <td>4479.3</td>\n",
       "      <td>3828.2</td>\n",
       "      <td>29025.5</td>\n",
       "      <td>7130.7</td>\n",
       "      <td>3203.2</td>\n",
       "      <td>5063.4</td>\n",
       "      <td>946.0</td>\n",
       "      <td>453</td>\n",
       "      <td>41.23</td>\n",
       "      <td>7.28</td>\n",
       "      <td>1</td>\n",
       "    </tr>\n",
       "    <tr>\n",
       "      <th>4220</th>\n",
       "      <td>21</td>\n",
       "      <td>26</td>\n",
       "      <td>6</td>\n",
       "      <td>3800.5</td>\n",
       "      <td>3712.7</td>\n",
       "      <td>29266.4</td>\n",
       "      <td>6764.1</td>\n",
       "      <td>3217.7</td>\n",
       "      <td>5062.4</td>\n",
       "      <td>946.0</td>\n",
       "      <td>362</td>\n",
       "      <td>40.24</td>\n",
       "      <td>7.28</td>\n",
       "      <td>0</td>\n",
       "    </tr>\n",
       "    <tr>\n",
       "      <th>4221</th>\n",
       "      <td>22</td>\n",
       "      <td>26</td>\n",
       "      <td>6</td>\n",
       "      <td>3529.7</td>\n",
       "      <td>3780.1</td>\n",
       "      <td>28711.2</td>\n",
       "      <td>6745.1</td>\n",
       "      <td>3215.0</td>\n",
       "      <td>5064.4</td>\n",
       "      <td>946.0</td>\n",
       "      <td>424</td>\n",
       "      <td>40.10</td>\n",
       "      <td>7.28</td>\n",
       "      <td>1</td>\n",
       "    </tr>\n",
       "    <tr>\n",
       "      <th>4222</th>\n",
       "      <td>23</td>\n",
       "      <td>26</td>\n",
       "      <td>6</td>\n",
       "      <td>2650.6</td>\n",
       "      <td>3676.9</td>\n",
       "      <td>26581.4</td>\n",
       "      <td>6650.9</td>\n",
       "      <td>3209.0</td>\n",
       "      <td>5065.4</td>\n",
       "      <td>946.0</td>\n",
       "      <td>358</td>\n",
       "      <td>38.63</td>\n",
       "      <td>7.28</td>\n",
       "      <td>0</td>\n",
       "    </tr>\n",
       "  </tbody>\n",
       "</table>\n",
       "<p>4223 rows × 14 columns</p>\n",
       "</div>"
      ],
      "text/plain": [
       "      hora  dia  mes  hidraul  eolica  demanda  ciclocomb  cogener  nuclear  \\\n",
       "0        0    2    1   5221.1  1639.0  13290.5     2500.5   2493.8   7093.6   \n",
       "1        1    2    1   4928.5  1568.4  12720.1     2411.5   2447.8   7091.6   \n",
       "2        2    2    1   4860.3  1566.3  12558.6     2307.5   2446.6   7092.6   \n",
       "3        3    2    1   4980.8  1781.5  12837.5     2307.5   2436.7   7092.6   \n",
       "4        4    2    1   4984.3  1998.2  13100.9     2374.2   2448.3   7094.6   \n",
       "...    ...  ...  ...      ...     ...      ...        ...      ...      ...   \n",
       "4218    19   26    6   4230.5  3680.1  29267.6     7090.4   3200.0   5061.4   \n",
       "4219    20   26    6   4479.3  3828.2  29025.5     7130.7   3203.2   5063.4   \n",
       "4220    21   26    6   3800.5  3712.7  29266.4     6764.1   3217.7   5062.4   \n",
       "4221    22   26    6   3529.7  3780.1  28711.2     6745.1   3215.0   5064.4   \n",
       "4222    23   26    6   2650.6  3676.9  26581.4     6650.9   3209.0   5065.4   \n",
       "\n",
       "      carbon  biomas  precio-elect-dia-anterior  MIBGAS-dia-anterior  precio  \n",
       "0      430.0     270                      41.88                11.27       0  \n",
       "1      430.0     243                      38.60                11.27       0  \n",
       "2      417.0     362                      36.55                11.27       0  \n",
       "3      387.0     369                      32.32                11.27       0  \n",
       "4      387.0     413                      30.85                11.27       0  \n",
       "...      ...     ...                        ...                  ...     ...  \n",
       "4218   946.0     365                      40.44                 7.28       0  \n",
       "4219   946.0     453                      41.23                 7.28       1  \n",
       "4220   946.0     362                      40.24                 7.28       0  \n",
       "4221   946.0     424                      40.10                 7.28       1  \n",
       "4222   946.0     358                      38.63                 7.28       0  \n",
       "\n",
       "[4223 rows x 14 columns]"
      ]
     },
     "execution_count": 15,
     "metadata": {},
     "output_type": "execute_result"
    }
   ],
   "source": [
    "# Show the first 10 rows of the dataset\n",
    "dataset\n",
    "### your code here\n"
   ]
  },
  {
   "cell_type": "markdown",
   "metadata": {},
   "source": [
    "#### We show again the correlation matrix with the value of the price [1 (very high), 0 (normal)]\n"
   ]
  },
  {
   "cell_type": "code",
   "execution_count": 16,
   "metadata": {},
   "outputs": [
    {
     "name": "stderr",
     "output_type": "stream",
     "text": [
      "/var/folders/hb/hsxv_19969b646bj1n59j_3w0000gn/T/ipykernel_81501/109467060.py:7: DeprecationWarning: `np.bool` is a deprecated alias for the builtin `bool`. To silence this warning, use `bool` by itself. Doing this will not modify any behavior and is safe. If you specifically wanted the numpy scalar type, use `np.bool_` here.\n",
      "Deprecated in NumPy 1.20; for more details and guidance: https://numpy.org/devdocs/release/1.20.0-notes.html#deprecations\n",
      "  mask = np.zeros_like(corr_matrix, dtype=np.bool)\n"
     ]
    },
    {
     "data": {
      "image/png": "[encoded data removed]",
      "text/plain": [
       "<Figure size 864x864 with 2 Axes>"
      ]
     },
     "metadata": {
      "needs_background": "light"
     },
     "output_type": "display_data"
    }
   ],
   "source": [
    "# Calculation of correlation coefficients\n",
    "\n",
    "### your code here\n",
    "corr_matrix= dataset.corr(method='spearman')\n",
    "\n",
    "# Remove repeated values\n",
    "mask = np.zeros_like(corr_matrix, dtype=np.bool)\n",
    "mask[np.triu_indices_from(mask)] = True\n",
    "\n",
    "  \n",
    "f, ax = plt.subplots(figsize=(12, 12))\n",
    "#Generate Heat Map,\n",
    "sns.heatmap(corr_matrix, annot=True, fmt=\".2f\" , mask=mask,)\n",
    "    # xticks\n",
    "plt.xticks(range(len(corr_matrix.columns)), corr_matrix.columns);\n",
    "    # yticks\n",
    "plt.yticks(range(len(corr_matrix.columns)), corr_matrix.columns)\n",
    "    # plot\n",
    "plt.show()"
   ]
  },
  {
   "cell_type": "markdown",
   "metadata": {},
   "source": [
    "## *4. Prepare the data*.\n",
    "\n",
    "1. Missing data\n",
    "2. Data cleaning (remove outliers).\n",
    "3. LabelEncoding (we have already done it).\n",
    "4. Feature engineering\n",
    "5. Transformation."
   ]
  },
  {
   "cell_type": "markdown",
   "metadata": {},
   "source": [
    "First, I divide the data into **attributes**: X (features) and **tags**: y (target)."
   ]
  },
  {
   "cell_type": "code",
   "execution_count": 17,
   "metadata": {},
   "outputs": [],
   "source": [
    "# Atributes X (features); labels y (target)\n",
    "### your code here\n",
    "X = dataset.drop(['precio'], axis=1)\n",
    "#X.drop['biomas']\n",
    "\n",
    "y = dataset['precio']\n"
   ]
  },
  {
   "cell_type": "markdown",
   "metadata": {},
   "source": [
    "**Missing data**\n",
    "\n",
    "Check whether Nan exists in the input data.\n",
    "\n",
    "- The following method is used [fillna] from Pandas.\n",
    "\n",
    "- Learn more about how to allocate values with [Scikit Learn]\n",
    "\n",
    "[Scikit Learn]: https://scikit-learn.org/stable/modules/impute.html\n",
    "[fillna]: https://pandas.pydata.org/pandas-docs/stable/reference/api/pandas.DataFrame.fillna.html\n",
    "\n",
    "\n",
    "\n"
   ]
  },
  {
   "cell_type": "code",
   "execution_count": 18,
   "metadata": {},
   "outputs": [
    {
     "data": {
      "text/plain": [
       "hora                         0\n",
       "dia                          0\n",
       "mes                          0\n",
       "hidraul                      0\n",
       "eolica                       0\n",
       "demanda                      3\n",
       "ciclocomb                    0\n",
       "cogener                      0\n",
       "nuclear                      0\n",
       "carbon                       3\n",
       "biomas                       0\n",
       "precio-elect-dia-anterior    0\n",
       "MIBGAS-dia-anterior          0\n",
       "dtype: int64"
      ]
     },
     "execution_count": 18,
     "metadata": {},
     "output_type": "execute_result"
    }
   ],
   "source": [
    "# Check for missing data in attributes\n",
    "### your code here\n",
    "X.isna().sum()"
   ]
  },
  {
   "cell_type": "code",
   "execution_count": 19,
   "metadata": {
    "scrolled": true
   },
   "outputs": [],
   "source": [
    "# Fill the missing values of each attribute with the previous value of the attribute. \n",
    "### your code here\n",
    "X['demanda'].fillna(method='ffill', inplace=True)\n",
    "X['carbon'].fillna(method='ffill', inplace=True)"
   ]
  },
  {
   "cell_type": "code",
   "execution_count": 20,
   "metadata": {},
   "outputs": [
    {
     "data": {
      "text/plain": [
       "0"
      ]
     },
     "execution_count": 20,
     "metadata": {},
     "output_type": "execute_result"
    }
   ],
   "source": [
    "# Check for missing data in the target\n",
    "### your code here\n",
    "y.isna().sum()"
   ]
  },
  {
   "cell_type": "code",
   "execution_count": 21,
   "metadata": {},
   "outputs": [
    {
     "data": {
      "text/plain": [
       "hora                         0\n",
       "dia                          0\n",
       "mes                          0\n",
       "hidraul                      0\n",
       "eolica                       0\n",
       "demanda                      0\n",
       "ciclocomb                    0\n",
       "cogener                      0\n",
       "nuclear                      0\n",
       "carbon                       0\n",
       "biomas                       0\n",
       "precio-elect-dia-anterior    0\n",
       "MIBGAS-dia-anterior          0\n",
       "dtype: int64"
      ]
     },
     "execution_count": 21,
     "metadata": {},
     "output_type": "execute_result"
    }
   ],
   "source": [
    "# Check that no value is missing\n",
    "X.isna().sum()\n",
    "### your code here\n"
   ]
  },
  {
   "cell_type": "markdown",
   "metadata": {},
   "source": [
    "**3. Feature engineering**\n",
    "\n",
    "Using the correlation matrix, eliminate the attributes with a correlation close to 0 with the **\"price\"** tag. \n",
    "\n",
    "**Which attribute(s) are eliminated?**"
   ]
  },
  {
   "cell_type": "code",
   "execution_count": 22,
   "metadata": {},
   "outputs": [],
   "source": [
    "# Delete the attribute\n",
    "### your code here\n",
    "X.drop(['biomas', 'dia','eolica'], axis=1, inplace=True)"
   ]
  },
  {
   "cell_type": "code",
   "execution_count": 23,
   "metadata": {
    "scrolled": true
   },
   "outputs": [
    {
     "data": {
      "text/html": [
       "<div>\n",
       "<style scoped>\n",
       "    .dataframe tbody tr th:only-of-type {\n",
       "        vertical-align: middle;\n",
       "    }\n",
       "\n",
       "    .dataframe tbody tr th {\n",
       "        vertical-align: top;\n",
       "    }\n",
       "\n",
       "    .dataframe thead th {\n",
       "        text-align: right;\n",
       "    }\n",
       "</style>\n",
       "<table border=\"1\" class=\"dataframe\">\n",
       "  <thead>\n",
       "    <tr style=\"text-align: right;\">\n",
       "      <th></th>\n",
       "      <th>hora</th>\n",
       "      <th>mes</th>\n",
       "      <th>hidraul</th>\n",
       "      <th>demanda</th>\n",
       "      <th>ciclocomb</th>\n",
       "      <th>cogener</th>\n",
       "      <th>nuclear</th>\n",
       "      <th>carbon</th>\n",
       "      <th>precio-elect-dia-anterior</th>\n",
       "      <th>MIBGAS-dia-anterior</th>\n",
       "    </tr>\n",
       "  </thead>\n",
       "  <tbody>\n",
       "    <tr>\n",
       "      <th>0</th>\n",
       "      <td>0</td>\n",
       "      <td>1</td>\n",
       "      <td>5221.1</td>\n",
       "      <td>13290.5</td>\n",
       "      <td>2500.5</td>\n",
       "      <td>2493.8</td>\n",
       "      <td>7093.6</td>\n",
       "      <td>430.0</td>\n",
       "      <td>41.88</td>\n",
       "      <td>11.27</td>\n",
       "    </tr>\n",
       "    <tr>\n",
       "      <th>1</th>\n",
       "      <td>1</td>\n",
       "      <td>1</td>\n",
       "      <td>4928.5</td>\n",
       "      <td>12720.1</td>\n",
       "      <td>2411.5</td>\n",
       "      <td>2447.8</td>\n",
       "      <td>7091.6</td>\n",
       "      <td>430.0</td>\n",
       "      <td>38.60</td>\n",
       "      <td>11.27</td>\n",
       "    </tr>\n",
       "    <tr>\n",
       "      <th>2</th>\n",
       "      <td>2</td>\n",
       "      <td>1</td>\n",
       "      <td>4860.3</td>\n",
       "      <td>12558.6</td>\n",
       "      <td>2307.5</td>\n",
       "      <td>2446.6</td>\n",
       "      <td>7092.6</td>\n",
       "      <td>417.0</td>\n",
       "      <td>36.55</td>\n",
       "      <td>11.27</td>\n",
       "    </tr>\n",
       "    <tr>\n",
       "      <th>3</th>\n",
       "      <td>3</td>\n",
       "      <td>1</td>\n",
       "      <td>4980.8</td>\n",
       "      <td>12837.5</td>\n",
       "      <td>2307.5</td>\n",
       "      <td>2436.7</td>\n",
       "      <td>7092.6</td>\n",
       "      <td>387.0</td>\n",
       "      <td>32.32</td>\n",
       "      <td>11.27</td>\n",
       "    </tr>\n",
       "    <tr>\n",
       "      <th>4</th>\n",
       "      <td>4</td>\n",
       "      <td>1</td>\n",
       "      <td>4984.3</td>\n",
       "      <td>13100.9</td>\n",
       "      <td>2374.2</td>\n",
       "      <td>2448.3</td>\n",
       "      <td>7094.6</td>\n",
       "      <td>387.0</td>\n",
       "      <td>30.85</td>\n",
       "      <td>11.27</td>\n",
       "    </tr>\n",
       "    <tr>\n",
       "      <th>...</th>\n",
       "      <td>...</td>\n",
       "      <td>...</td>\n",
       "      <td>...</td>\n",
       "      <td>...</td>\n",
       "      <td>...</td>\n",
       "      <td>...</td>\n",
       "      <td>...</td>\n",
       "      <td>...</td>\n",
       "      <td>...</td>\n",
       "      <td>...</td>\n",
       "    </tr>\n",
       "    <tr>\n",
       "      <th>4218</th>\n",
       "      <td>19</td>\n",
       "      <td>6</td>\n",
       "      <td>4230.5</td>\n",
       "      <td>29267.6</td>\n",
       "      <td>7090.4</td>\n",
       "      <td>3200.0</td>\n",
       "      <td>5061.4</td>\n",
       "      <td>946.0</td>\n",
       "      <td>40.44</td>\n",
       "      <td>7.28</td>\n",
       "    </tr>\n",
       "    <tr>\n",
       "      <th>4219</th>\n",
       "      <td>20</td>\n",
       "      <td>6</td>\n",
       "      <td>4479.3</td>\n",
       "      <td>29025.5</td>\n",
       "      <td>7130.7</td>\n",
       "      <td>3203.2</td>\n",
       "      <td>5063.4</td>\n",
       "      <td>946.0</td>\n",
       "      <td>41.23</td>\n",
       "      <td>7.28</td>\n",
       "    </tr>\n",
       "    <tr>\n",
       "      <th>4220</th>\n",
       "      <td>21</td>\n",
       "      <td>6</td>\n",
       "      <td>3800.5</td>\n",
       "      <td>29266.4</td>\n",
       "      <td>6764.1</td>\n",
       "      <td>3217.7</td>\n",
       "      <td>5062.4</td>\n",
       "      <td>946.0</td>\n",
       "      <td>40.24</td>\n",
       "      <td>7.28</td>\n",
       "    </tr>\n",
       "    <tr>\n",
       "      <th>4221</th>\n",
       "      <td>22</td>\n",
       "      <td>6</td>\n",
       "      <td>3529.7</td>\n",
       "      <td>28711.2</td>\n",
       "      <td>6745.1</td>\n",
       "      <td>3215.0</td>\n",
       "      <td>5064.4</td>\n",
       "      <td>946.0</td>\n",
       "      <td>40.10</td>\n",
       "      <td>7.28</td>\n",
       "    </tr>\n",
       "    <tr>\n",
       "      <th>4222</th>\n",
       "      <td>23</td>\n",
       "      <td>6</td>\n",
       "      <td>2650.6</td>\n",
       "      <td>26581.4</td>\n",
       "      <td>6650.9</td>\n",
       "      <td>3209.0</td>\n",
       "      <td>5065.4</td>\n",
       "      <td>946.0</td>\n",
       "      <td>38.63</td>\n",
       "      <td>7.28</td>\n",
       "    </tr>\n",
       "  </tbody>\n",
       "</table>\n",
       "<p>4223 rows × 10 columns</p>\n",
       "</div>"
      ],
      "text/plain": [
       "      hora  mes  hidraul  demanda  ciclocomb  cogener  nuclear  carbon  \\\n",
       "0        0    1   5221.1  13290.5     2500.5   2493.8   7093.6   430.0   \n",
       "1        1    1   4928.5  12720.1     2411.5   2447.8   7091.6   430.0   \n",
       "2        2    1   4860.3  12558.6     2307.5   2446.6   7092.6   417.0   \n",
       "3        3    1   4980.8  12837.5     2307.5   2436.7   7092.6   387.0   \n",
       "4        4    1   4984.3  13100.9     2374.2   2448.3   7094.6   387.0   \n",
       "...    ...  ...      ...      ...        ...      ...      ...     ...   \n",
       "4218    19    6   4230.5  29267.6     7090.4   3200.0   5061.4   946.0   \n",
       "4219    20    6   4479.3  29025.5     7130.7   3203.2   5063.4   946.0   \n",
       "4220    21    6   3800.5  29266.4     6764.1   3217.7   5062.4   946.0   \n",
       "4221    22    6   3529.7  28711.2     6745.1   3215.0   5064.4   946.0   \n",
       "4222    23    6   2650.6  26581.4     6650.9   3209.0   5065.4   946.0   \n",
       "\n",
       "      precio-elect-dia-anterior  MIBGAS-dia-anterior  \n",
       "0                         41.88                11.27  \n",
       "1                         38.60                11.27  \n",
       "2                         36.55                11.27  \n",
       "3                         32.32                11.27  \n",
       "4                         30.85                11.27  \n",
       "...                         ...                  ...  \n",
       "4218                      40.44                 7.28  \n",
       "4219                      41.23                 7.28  \n",
       "4220                      40.24                 7.28  \n",
       "4221                      40.10                 7.28  \n",
       "4222                      38.63                 7.28  \n",
       "\n",
       "[4223 rows x 10 columns]"
      ]
     },
     "execution_count": 23,
     "metadata": {},
     "output_type": "execute_result"
    }
   ],
   "source": [
    "X"
   ]
  },
  {
   "cell_type": "markdown",
   "metadata": {},
   "source": [
    "## *5. Split data*\n",
    " "
   ]
  },
  {
   "cell_type": "code",
   "execution_count": 24,
   "metadata": {},
   "outputs": [],
   "source": [
    "from sklearn.model_selection import train_test_split\n",
    "\n",
    "test_size = 0.2  # percentage of the input data that you will use to validate the model\n",
    "\n",
    "### your code here\n",
    "X_train, X_test, y_train, y_test = train_test_split(X, y, test_size=test_size, random_state=0)\n",
    "\n",
    "X_train, X_val, y_train, y_val = train_test_split(X_train, y_train, test_size=test_size, random_state=0)\n",
    "\n"
   ]
  },
  {
   "cell_type": "markdown",
   "metadata": {},
   "source": [
    "**4. Transformation (scaling, if neccesary)**. \n",
    "\n",
    "* **Scale the data using the *MinMaxScaler()* method within the range [0,1].**"
   ]
  },
  {
   "cell_type": "code",
   "execution_count": 25,
   "metadata": {},
   "outputs": [
    {
     "data": {
      "text/html": [
       "<div>\n",
       "<style scoped>\n",
       "    .dataframe tbody tr th:only-of-type {\n",
       "        vertical-align: middle;\n",
       "    }\n",
       "\n",
       "    .dataframe tbody tr th {\n",
       "        vertical-align: top;\n",
       "    }\n",
       "\n",
       "    .dataframe thead th {\n",
       "        text-align: right;\n",
       "    }\n",
       "</style>\n",
       "<table border=\"1\" class=\"dataframe\">\n",
       "  <thead>\n",
       "    <tr style=\"text-align: right;\">\n",
       "      <th></th>\n",
       "      <th>hora</th>\n",
       "      <th>mes</th>\n",
       "      <th>hidraul</th>\n",
       "      <th>demanda</th>\n",
       "      <th>ciclocomb</th>\n",
       "      <th>cogener</th>\n",
       "      <th>nuclear</th>\n",
       "      <th>carbon</th>\n",
       "      <th>precio-elect-dia-anterior</th>\n",
       "      <th>MIBGAS-dia-anterior</th>\n",
       "    </tr>\n",
       "  </thead>\n",
       "  <tbody>\n",
       "    <tr>\n",
       "      <th>0</th>\n",
       "      <td>0.000000</td>\n",
       "      <td>0.0</td>\n",
       "      <td>0.665797</td>\n",
       "      <td>0.374814</td>\n",
       "      <td>0.236761</td>\n",
       "      <td>0.357131</td>\n",
       "      <td>0.998130</td>\n",
       "      <td>0.208232</td>\n",
       "      <td>0.664823</td>\n",
       "      <td>0.688652</td>\n",
       "    </tr>\n",
       "    <tr>\n",
       "      <th>1</th>\n",
       "      <td>0.043478</td>\n",
       "      <td>0.0</td>\n",
       "      <td>0.621162</td>\n",
       "      <td>0.358728</td>\n",
       "      <td>0.226434</td>\n",
       "      <td>0.332550</td>\n",
       "      <td>0.997588</td>\n",
       "      <td>0.208232</td>\n",
       "      <td>0.611455</td>\n",
       "      <td>0.688652</td>\n",
       "    </tr>\n",
       "    <tr>\n",
       "      <th>2</th>\n",
       "      <td>0.086957</td>\n",
       "      <td>0.0</td>\n",
       "      <td>0.610758</td>\n",
       "      <td>0.354173</td>\n",
       "      <td>0.214367</td>\n",
       "      <td>0.331908</td>\n",
       "      <td>0.997859</td>\n",
       "      <td>0.201937</td>\n",
       "      <td>0.578100</td>\n",
       "      <td>0.688652</td>\n",
       "    </tr>\n",
       "    <tr>\n",
       "      <th>3</th>\n",
       "      <td>0.130435</td>\n",
       "      <td>0.0</td>\n",
       "      <td>0.629140</td>\n",
       "      <td>0.362039</td>\n",
       "      <td>0.214367</td>\n",
       "      <td>0.326618</td>\n",
       "      <td>0.997859</td>\n",
       "      <td>0.187409</td>\n",
       "      <td>0.509274</td>\n",
       "      <td>0.688652</td>\n",
       "    </tr>\n",
       "    <tr>\n",
       "      <th>4</th>\n",
       "      <td>0.173913</td>\n",
       "      <td>0.0</td>\n",
       "      <td>0.629674</td>\n",
       "      <td>0.369467</td>\n",
       "      <td>0.222106</td>\n",
       "      <td>0.332817</td>\n",
       "      <td>0.998401</td>\n",
       "      <td>0.187409</td>\n",
       "      <td>0.485356</td>\n",
       "      <td>0.688652</td>\n",
       "    </tr>\n",
       "  </tbody>\n",
       "</table>\n",
       "</div>"
      ],
      "text/plain": [
       "       hora  mes   hidraul   demanda  ciclocomb   cogener   nuclear    carbon  \\\n",
       "0  0.000000  0.0  0.665797  0.374814   0.236761  0.357131  0.998130  0.208232   \n",
       "1  0.043478  0.0  0.621162  0.358728   0.226434  0.332550  0.997588  0.208232   \n",
       "2  0.086957  0.0  0.610758  0.354173   0.214367  0.331908  0.997859  0.201937   \n",
       "3  0.130435  0.0  0.629140  0.362039   0.214367  0.326618  0.997859  0.187409   \n",
       "4  0.173913  0.0  0.629674  0.369467   0.222106  0.332817  0.998401  0.187409   \n",
       "\n",
       "   precio-elect-dia-anterior  MIBGAS-dia-anterior  \n",
       "0                   0.664823             0.688652  \n",
       "1                   0.611455             0.688652  \n",
       "2                   0.578100             0.688652  \n",
       "3                   0.509274             0.688652  \n",
       "4                   0.485356             0.688652  "
      ]
     },
     "execution_count": 25,
     "metadata": {},
     "output_type": "execute_result"
    }
   ],
   "source": [
    "from sklearn.preprocessing import MinMaxScaler\n",
    "\n",
    "scaler = MinMaxScaler()\n",
    "df_scaled = X.copy()\n",
    "X_scaled = pd.DataFrame(scaler.fit_transform(df_scaled))\n",
    "X_scaled.columns = df_scaled.columns\n",
    "X_scaled.head()"
   ]
  },
  {
   "cell_type": "markdown",
   "metadata": {},
   "source": [
    "## *6.  Model building and evaluation*"
   ]
  },
  {
   "cell_type": "markdown",
   "metadata": {},
   "source": [
    "* Select **[balanced_accuracy]** as evaluation metric. \n",
    "* Evaluation metrics available in [Scikit-Learn].\n",
    "\n",
    "\n",
    "[Scikit-Learn]: https://scikit-learn.org/stable/modules/model_evaluation.html\n",
    "\n",
    "[balanced_accuracy]: https://scikit-learn.org/stable/modules/generated/sklearn.metrics.balanced_accuracy_score.html\n",
    "\n",
    "* Remember to always use the same random_state to be able to compare results. "
   ]
  },
  {
   "cell_type": "code",
   "execution_count": 26,
   "metadata": {},
   "outputs": [
    {
     "name": "stdout",
     "output_type": "stream",
     "text": [
      "Requirement already satisfied: xgboost in /Users/bendiksherbold/opt/anaconda3/lib/python3.9/site-packages (1.7.1)\n",
      "Requirement already satisfied: numpy in /Users/bendiksherbold/opt/anaconda3/lib/python3.9/site-packages (from xgboost) (1.21.5)\n",
      "Requirement already satisfied: scipy in /Users/bendiksherbold/opt/anaconda3/lib/python3.9/site-packages (from xgboost) (1.7.3)\n",
      "Note: you may need to restart the kernel to use updated packages.\n"
     ]
    }
   ],
   "source": [
    "pip install xgboost"
   ]
  },
  {
   "cell_type": "code",
   "execution_count": 27,
   "metadata": {},
   "outputs": [],
   "source": [
    "from sklearn.linear_model import LogisticRegression\n",
    "from sklearn.ensemble import RandomForestClassifier\n",
    "from sklearn.neighbors import KNeighborsClassifier\n",
    "from sklearn.neural_network import MLPClassifier\n",
    "import xgboost as xgb\n",
    "\n",
    "num_folds = 15\n",
    "error_metrics = {'balanced_accuracy'}\n",
    "models = { ('LR', LogisticRegression(solver='saga')), \n",
    "          \n",
    "        ### your code here     \n",
    "          ('KNN',KNeighborsClassifier()), ('RF', RandomForestClassifier()),\n",
    "          ('XGB', xgb.XGBClassifier())\n",
    "        }\n",
    "results = [] # stores the results of the evaluation metrics\n",
    "names = [] # name of each algorithm\n",
    "msg = [] # print the summary of the cross-validation method\n"
   ]
  },
  {
   "cell_type": "markdown",
   "metadata": {},
   "source": [
    "* Which one obtains better results? \n",
    "* Which balanced_accuracy do you get? "
   ]
  },
  {
   "cell_type": "code",
   "execution_count": 28,
   "metadata": {
    "scrolled": true
   },
   "outputs": [
    {
     "name": "stdout",
     "output_type": "stream",
     "text": [
      "Evaluation metrics:  balanced_accuracy\n",
      "Model  KNN\n",
      "Model  LR\n"
     ]
    },
    {
     "name": "stderr",
     "output_type": "stream",
     "text": [
      "/Users/bendiksherbold/opt/anaconda3/lib/python3.9/site-packages/sklearn/linear_model/_sag.py:352: ConvergenceWarning: The max_iter was reached which means the coef_ did not converge\n",
      "  warnings.warn(\n",
      "/Users/bendiksherbold/opt/anaconda3/lib/python3.9/site-packages/sklearn/linear_model/_sag.py:352: ConvergenceWarning: The max_iter was reached which means the coef_ did not converge\n",
      "  warnings.warn(\n",
      "/Users/bendiksherbold/opt/anaconda3/lib/python3.9/site-packages/sklearn/linear_model/_sag.py:352: ConvergenceWarning: The max_iter was reached which means the coef_ did not converge\n",
      "  warnings.warn(\n",
      "/Users/bendiksherbold/opt/anaconda3/lib/python3.9/site-packages/sklearn/linear_model/_sag.py:352: ConvergenceWarning: The max_iter was reached which means the coef_ did not converge\n",
      "  warnings.warn(\n",
      "/Users/bendiksherbold/opt/anaconda3/lib/python3.9/site-packages/sklearn/linear_model/_sag.py:352: ConvergenceWarning: The max_iter was reached which means the coef_ did not converge\n",
      "  warnings.warn(\n",
      "/Users/bendiksherbold/opt/anaconda3/lib/python3.9/site-packages/sklearn/linear_model/_sag.py:352: ConvergenceWarning: The max_iter was reached which means the coef_ did not converge\n",
      "  warnings.warn(\n",
      "/Users/bendiksherbold/opt/anaconda3/lib/python3.9/site-packages/sklearn/linear_model/_sag.py:352: ConvergenceWarning: The max_iter was reached which means the coef_ did not converge\n",
      "  warnings.warn(\n",
      "/Users/bendiksherbold/opt/anaconda3/lib/python3.9/site-packages/sklearn/linear_model/_sag.py:352: ConvergenceWarning: The max_iter was reached which means the coef_ did not converge\n",
      "  warnings.warn(\n",
      "/Users/bendiksherbold/opt/anaconda3/lib/python3.9/site-packages/sklearn/linear_model/_sag.py:352: ConvergenceWarning: The max_iter was reached which means the coef_ did not converge\n",
      "  warnings.warn(\n",
      "/Users/bendiksherbold/opt/anaconda3/lib/python3.9/site-packages/sklearn/linear_model/_sag.py:352: ConvergenceWarning: The max_iter was reached which means the coef_ did not converge\n",
      "  warnings.warn(\n",
      "/Users/bendiksherbold/opt/anaconda3/lib/python3.9/site-packages/sklearn/linear_model/_sag.py:352: ConvergenceWarning: The max_iter was reached which means the coef_ did not converge\n",
      "  warnings.warn(\n",
      "/Users/bendiksherbold/opt/anaconda3/lib/python3.9/site-packages/sklearn/linear_model/_sag.py:352: ConvergenceWarning: The max_iter was reached which means the coef_ did not converge\n",
      "  warnings.warn(\n",
      "/Users/bendiksherbold/opt/anaconda3/lib/python3.9/site-packages/sklearn/linear_model/_sag.py:352: ConvergenceWarning: The max_iter was reached which means the coef_ did not converge\n",
      "  warnings.warn(\n",
      "/Users/bendiksherbold/opt/anaconda3/lib/python3.9/site-packages/sklearn/linear_model/_sag.py:352: ConvergenceWarning: The max_iter was reached which means the coef_ did not converge\n",
      "  warnings.warn(\n",
      "/Users/bendiksherbold/opt/anaconda3/lib/python3.9/site-packages/sklearn/linear_model/_sag.py:352: ConvergenceWarning: The max_iter was reached which means the coef_ did not converge\n",
      "  warnings.warn(\n"
     ]
    },
    {
     "name": "stdout",
     "output_type": "stream",
     "text": [
      "Model  RF\n",
      "Model  XGB\n",
      "[('KNN', 0.7814382966602577, 0.03669434285173084), ('LR', 0.7600632343516343, 0.05348394279343949), ('RF', 0.8774395784376557, 0.034570952332396356), ('XGB', 0.8841062451043226, 0.033298901872182866)]\n"
     ]
    },
    {
     "data": {
      "image/png": "[encoded data removed]",
      "text/plain": [
       "<Figure size 432x288 with 1 Axes>"
      ]
     },
     "metadata": {
      "needs_background": "light"
     },
     "output_type": "display_data"
    }
   ],
   "source": [
    "from sklearn.model_selection import cross_val_score, GridSearchCV\n",
    "from sklearn.model_selection import StratifiedKFold\n",
    "\n",
    "# Cross-validation training\n",
    "for scoring in error_metrics:\n",
    "    print('Evaluation metrics: ', scoring)\n",
    "    for name, model in models:\n",
    "        print('Model ', name)\n",
    "        cross_validation = StratifiedKFold(n_splits=num_folds, random_state=0, shuffle=True)\n",
    "        cv_results = cross_val_score(model, X_train, y_train, cv=cross_validation, scoring=scoring)\n",
    "        results.append(cv_results)\n",
    "        names.append(name)\n",
    "        resume = (name, cv_results.mean(), cv_results.std())\n",
    "        msg.append(resume)\n",
    "    print(msg)\n",
    "\n",
    "    # Compare results between algorithms\n",
    "    fig = plt.figure()\n",
    "    fig.suptitle('Comparison of algorithms with evaluation metrics: %s' %scoring)\n",
    "    ax = fig.add_subplot(111)\n",
    "    ax.set_xlabel('Candidate models')\n",
    "    ax.set_ylabel('%s' %scoring)\n",
    "    plt.boxplot(results)\n",
    "    ax.set_xticklabels(names)\n",
    "    plt.show()\n",
    "\n",
    "    results = []\n"
   ]
  },
  {
   "cell_type": "markdown",
   "metadata": {},
   "source": [
    "## *7. Adjust hyperparameters*.\n",
    "\n",
    "Steps to perform the hyperadjustment of the parameters:\n",
    "\n",
    "* Metric to optimize\n",
    "* Define search parameter ranges: *params*\n",
    "* Train with validation data: *X_val\n",
    "\n",
    "[XGBClassifier]:https://xgboost.readthedocs.io/en/latest/parameter.html"
   ]
  },
  {
   "cell_type": "code",
   "execution_count": 29,
   "metadata": {},
   "outputs": [
    {
     "name": "stdout",
     "output_type": "stream",
     "text": [
      "Fitting 10 folds for each of 4 candidates, totalling 40 fits\n",
      "[CV] END ............................booster=gbtree, eta=0.1; total time=   0.0s\n",
      "[CV] END ............................booster=gbtree, eta=0.1; total time=   0.0s\n",
      "[CV] END ............................booster=gbtree, eta=0.1; total time=   0.0s\n",
      "[CV] END ............................booster=gbtree, eta=0.1; total time=   0.0s\n",
      "[CV] END ............................booster=gbtree, eta=0.1; total time=   0.0s\n",
      "[CV] END ............................booster=gbtree, eta=0.1; total time=   0.0s\n",
      "[CV] END ............................booster=gbtree, eta=0.1; total time=   0.0s\n",
      "[CV] END ............................booster=gbtree, eta=0.1; total time=   0.0s\n",
      "[CV] END ............................booster=gbtree, eta=0.1; total time=   0.0s\n",
      "[CV] END ............................booster=gbtree, eta=0.1; total time=   0.1s\n",
      "[CV] END ............................booster=gbtree, eta=0.3; total time=   0.0s\n",
      "[CV] END ............................booster=gbtree, eta=0.3; total time=   0.0s\n",
      "[CV] END ............................booster=gbtree, eta=0.3; total time=   0.0s\n",
      "[CV] END ............................booster=gbtree, eta=0.3; total time=   0.0s\n",
      "[CV] END ............................booster=gbtree, eta=0.3; total time=   0.0s\n",
      "[CV] END ............................booster=gbtree, eta=0.3; total time=   0.1s\n",
      "[CV] END ............................booster=gbtree, eta=0.3; total time=   0.0s\n",
      "[CV] END ............................booster=gbtree, eta=0.3; total time=   0.1s\n",
      "[CV] END ............................booster=gbtree, eta=0.3; total time=   0.1s\n",
      "[CV] END ............................booster=gbtree, eta=0.3; total time=   0.1s\n",
      "[CV] END ..............................booster=dart, eta=0.1; total time=   0.3s\n",
      "[CV] END ..............................booster=dart, eta=0.1; total time=   0.5s\n",
      "[CV] END ..............................booster=dart, eta=0.1; total time=   0.3s\n",
      "[CV] END ..............................booster=dart, eta=0.1; total time=   0.2s\n",
      "[CV] END ..............................booster=dart, eta=0.1; total time=   0.3s\n",
      "[CV] END ..............................booster=dart, eta=0.1; total time=   0.4s\n",
      "[CV] END ..............................booster=dart, eta=0.1; total time=   0.3s\n",
      "[CV] END ..............................booster=dart, eta=0.1; total time=   0.3s\n",
      "[CV] END ..............................booster=dart, eta=0.1; total time=   0.3s\n",
      "[CV] END ..............................booster=dart, eta=0.1; total time=   0.3s\n",
      "[CV] END ..............................booster=dart, eta=0.3; total time=   0.1s\n",
      "[CV] END ..............................booster=dart, eta=0.3; total time=   0.1s\n",
      "[CV] END ..............................booster=dart, eta=0.3; total time=   0.1s\n",
      "[CV] END ..............................booster=dart, eta=0.3; total time=   0.2s\n",
      "[CV] END ..............................booster=dart, eta=0.3; total time=   0.2s\n",
      "[CV] END ..............................booster=dart, eta=0.3; total time=   0.2s\n",
      "[CV] END ..............................booster=dart, eta=0.3; total time=   0.3s\n",
      "[CV] END ..............................booster=dart, eta=0.3; total time=   0.3s\n",
      "[CV] END ..............................booster=dart, eta=0.3; total time=   0.3s\n",
      "[CV] END ..............................booster=dart, eta=0.3; total time=   0.3s\n",
      "Best result: 0.831551 using the following hyperparameters {'booster': 'gbtree', 'eta': 0.3}\n"
     ]
    }
   ],
   "source": [
    "from sklearn.model_selection import TimeSeriesSplit\n",
    "model =  xgb.XGBClassifier()    ### your code here\n",
    "params = {\n",
    "     'booster': ['gbtree', 'dart'], #default=gbtree\n",
    "     'eta': [0.1, 0.3], #default=0.3\n",
    "     # 'max_depth': [3, 6, 8],  #default=6\n",
    "     #'predictor': ['auto', 'gpu_predictor'] # default auto\n",
    " }\n",
    "scoring='balanced_accuracy'     ### your code here\n",
    "cross_validation = TimeSeriesSplit(n_splits=10)      ### your code here\n",
    "my_cv = cross_validation.split(X_val, y_val)\n",
    "gsearch = GridSearchCV(estimator=model, param_grid=params, scoring=scoring, cv=my_cv, verbose=2)\n",
    "gsearch.fit(X_val, y_val)\n",
    "\n",
    "print(\"Best result: %f using the following hyperparameters %s\" % (gsearch.best_score_, gsearch.best_params_))\n",
    "means = gsearch.cv_results_['mean_test_score']\n",
    "stds = gsearch.cv_results_['std_test_score']\n",
    "params = gsearch.cv_results_['params']\n"
   ]
  },
  {
   "cell_type": "markdown",
   "metadata": {},
   "source": [
    "## *8.  Final evaluation of the model*\n",
    "\n"
   ]
  },
  {
   "cell_type": "markdown",
   "metadata": {},
   "source": [
    "Evaluation metrics:\n",
    "  * 1. Confusion matrix\n",
    "  * 2. Matthews Coefficient\n",
    "\n",
    "    \n",
    "**Train the model with the optimal hyperparameters found in the previous section and make the predictions**. "
   ]
  },
  {
   "cell_type": "code",
   "execution_count": 30,
   "metadata": {},
   "outputs": [],
   "source": [
    "finalModel = xgb.XGBClassifier(booster= 'gbtree', eta=0.3)     ### your code here\n",
    "\n",
    "finalModel.fit(X_train,y_train)  \n",
    "y_predict = finalModel.predict(X_test)  \n"
   ]
  },
  {
   "cell_type": "markdown",
   "metadata": {},
   "source": [
    "**1. Confusion matrix**"
   ]
  },
  {
   "cell_type": "code",
   "execution_count": 31,
   "metadata": {},
   "outputs": [],
   "source": [
    "from sklearn.metrics import confusion_matrix, classification_report, plot_confusion_matrix\n",
    "\n",
    "confusion_matrix = confusion_matrix(y_test, y_predict)### your code here\n"
   ]
  },
  {
   "cell_type": "code",
   "execution_count": 32,
   "metadata": {},
   "outputs": [
    {
     "name": "stdout",
     "output_type": "stream",
     "text": [
      "              precision    recall  f1-score   support\n",
      "\n",
      "           0       0.97      0.97      0.97       693\n",
      "           1       0.85      0.86      0.85       152\n",
      "\n",
      "    accuracy                           0.95       845\n",
      "   macro avg       0.91      0.91      0.91       845\n",
      "weighted avg       0.95      0.95      0.95       845\n",
      "\n",
      "[[670  23]\n",
      " [ 22 130]]\n"
     ]
    }
   ],
   "source": [
    "print(classification_report(y_test, y_predict))\n",
    "print(confusion_matrix)"
   ]
  },
  {
   "cell_type": "code",
   "execution_count": 33,
   "metadata": {},
   "outputs": [
    {
     "name": "stderr",
     "output_type": "stream",
     "text": [
      "/Users/bendiksherbold/opt/anaconda3/lib/python3.9/site-packages/sklearn/utils/deprecation.py:87: FutureWarning: Function plot_confusion_matrix is deprecated; Function `plot_confusion_matrix` is deprecated in 1.0 and will be removed in 1.2. Use one of the class methods: ConfusionMatrixDisplay.from_predictions or ConfusionMatrixDisplay.from_estimator.\n",
      "  warnings.warn(msg, category=FutureWarning)\n"
     ]
    },
    {
     "data": {
      "image/png": "[encoded data removed]",
      "text/plain": [
       "<Figure size 432x288 with 2 Axes>"
      ]
     },
     "metadata": {
      "needs_background": "light"
     },
     "output_type": "display_data"
    }
   ],
   "source": [
    "# Non-normalized graph of the martiz of confusion\n",
    "\n",
    "disp = plot_confusion_matrix(finalModel, X_test, y_test,\n",
    "                                 cmap=plt.cm.Blues, values_format = '')"
   ]
  },
  {
   "cell_type": "markdown",
   "metadata": {},
   "source": [
    "**2. Matthews Coeficient (MCC)**\n",
    "\n",
    "The MCC uses correlation coefficients between -1 and +1. \n",
    "* Coefficient +1 represents a perfect prediction.\n",
    "* Coefficient 0 represents a random mean prediction.\n",
    "* Coefficient -1 represents an inverse prediction. "
   ]
  },
  {
   "cell_type": "code",
   "execution_count": 34,
   "metadata": {},
   "outputs": [
    {
     "data": {
      "text/plain": [
       "0.8199750299749626"
      ]
     },
     "execution_count": 34,
     "metadata": {},
     "output_type": "execute_result"
    }
   ],
   "source": [
    "from sklearn.metrics import matthews_corrcoef\n",
    "\n",
    "### your code here\n",
    "matthews_corrcoef(y_test,y_predict)\n"
   ]
  },
  {
   "cell_type": "code",
   "execution_count": null,
   "metadata": {},
   "outputs": [],
   "source": []
  }
 ],
 "metadata": {
  "kernelspec": {
   "display_name": "Python 3 (ipykernel)",
   "language": "python",
   "name": "python3"
  },
  "language_info": {
   "codemirror_mode": {
    "name": "ipython",
    "version": 3
   },
   "file_extension": ".py",
   "mimetype": "text/x-python",
   "name": "python",
   "nbconvert_exporter": "python",
   "pygments_lexer": "ipython3",
   "version": "3.9.12"
  }
 },
 "nbformat": 4,
 "nbformat_minor": 2
}

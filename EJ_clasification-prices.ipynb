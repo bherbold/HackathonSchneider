{
 "cells": [
  {
   "cell_type": "markdown",
   "metadata": {},
   "source": [
    "# EXERCISE\n",
    "# Supervised Learning: Classification.\n",
    "\n",
    "## *Binary electricity price classification in the Day-Ahead Spot Market*"
   ]
  },
  {
   "cell_type": "markdown",
   "metadata": {},
   "source": [
    "**Objective:** Imagining that we are in the middle of 2020, predict in which hours the price of electricity in the Day-Ahead Market will be high, being **class 0** for values lower than 40 €, and **class 1** for values higher than 40 €.  We will use the context and historical data for **2020** of the target variable we want to classify and other features that can help to predict the model.\n",
    "\n",
    "### Before you start:\n",
    "\n",
    "* In the file **EJ2-data-prices.xlsx** is the input dataset for this example (attributes + label). \n",
    "* Data from January 2, 2020 to June 26, 2020.\n"
   ]
  },
  {
   "cell_type": "markdown",
   "metadata": {},
   "source": [
    "## **Import libraries and data**\n"
   ]
  },
  {
   "cell_type": "code",
   "execution_count": 1,
   "metadata": {},
   "outputs": [
    {
     "name": "stdout",
     "output_type": "stream",
     "text": [
      "done\n"
     ]
    }
   ],
   "source": [
    "\n",
    "import sklearn\n",
    "import pandas as pd\n",
    "import matplotlib.pyplot as plt\n",
    "import numpy as np\n",
    "\n",
    "# Load the input dataset\n",
    "### your code here\n",
    "dataset = pd.read_excel('EJ2-data-precios.xlsx')\n",
    "print('done')"
   ]
  },
  {
   "cell_type": "markdown",
   "metadata": {},
   "source": [
    "## **2. Understanding the data**\n",
    "\n",
    "It is necessary to visualize and understand the data we are going to work with, as well as to know its characteristics. \n",
    "\n",
    "1. How much data is there? How many attributes are there in the data?  \n",
    "2. What do they mean?\n",
    "3. Is there any missing data? \n",
    "4. Are the labels balanced? \n",
    "5. Statistical summary of the input data set."
   ]
  },
  {
   "cell_type": "markdown",
   "metadata": {},
   "source": [
    "1. **How much data is there? How many attributes are there in the data?**"
   ]
  },
  {
   "cell_type": "code",
   "execution_count": 2,
   "metadata": {},
   "outputs": [
    {
     "data": {
      "text/plain": [
       "(4223, 14)"
      ]
     },
     "execution_count": 2,
     "metadata": {},
     "output_type": "execute_result"
    }
   ],
   "source": [
    "# Data rows/columns\n",
    "### your code here\n",
    "dataset.shape"
   ]
  },
  {
   "cell_type": "code",
   "execution_count": 3,
   "metadata": {},
   "outputs": [
    {
     "data": {
      "text/html": [
       "<div>\n",
       "<style scoped>\n",
       "    .dataframe tbody tr th:only-of-type {\n",
       "        vertical-align: middle;\n",
       "    }\n",
       "\n",
       "    .dataframe tbody tr th {\n",
       "        vertical-align: top;\n",
       "    }\n",
       "\n",
       "    .dataframe thead th {\n",
       "        text-align: right;\n",
       "    }\n",
       "</style>\n",
       "<table border=\"1\" class=\"dataframe\">\n",
       "  <thead>\n",
       "    <tr style=\"text-align: right;\">\n",
       "      <th></th>\n",
       "      <th>hora</th>\n",
       "      <th>dia</th>\n",
       "      <th>mes</th>\n",
       "      <th>hidraul</th>\n",
       "      <th>eolica</th>\n",
       "      <th>demanda</th>\n",
       "      <th>ciclocomb</th>\n",
       "      <th>cogener</th>\n",
       "      <th>nuclear</th>\n",
       "      <th>carbon</th>\n",
       "      <th>biomas</th>\n",
       "      <th>precio-elect-dia-anterior</th>\n",
       "      <th>MIBGAS-dia-anterior</th>\n",
       "      <th>precio</th>\n",
       "    </tr>\n",
       "  </thead>\n",
       "  <tbody>\n",
       "    <tr>\n",
       "      <th>0</th>\n",
       "      <td>0</td>\n",
       "      <td>2</td>\n",
       "      <td>1</td>\n",
       "      <td>5221.1</td>\n",
       "      <td>1639.0</td>\n",
       "      <td>13290.5</td>\n",
       "      <td>2500.5</td>\n",
       "      <td>2493.8</td>\n",
       "      <td>7093.6</td>\n",
       "      <td>430.0</td>\n",
       "      <td>270</td>\n",
       "      <td>41.88</td>\n",
       "      <td>11.27</td>\n",
       "      <td>menor que  40 euros</td>\n",
       "    </tr>\n",
       "    <tr>\n",
       "      <th>1</th>\n",
       "      <td>1</td>\n",
       "      <td>2</td>\n",
       "      <td>1</td>\n",
       "      <td>4928.5</td>\n",
       "      <td>1568.4</td>\n",
       "      <td>12720.1</td>\n",
       "      <td>2411.5</td>\n",
       "      <td>2447.8</td>\n",
       "      <td>7091.6</td>\n",
       "      <td>430.0</td>\n",
       "      <td>243</td>\n",
       "      <td>38.60</td>\n",
       "      <td>11.27</td>\n",
       "      <td>menor que  40 euros</td>\n",
       "    </tr>\n",
       "    <tr>\n",
       "      <th>2</th>\n",
       "      <td>2</td>\n",
       "      <td>2</td>\n",
       "      <td>1</td>\n",
       "      <td>4860.3</td>\n",
       "      <td>1566.3</td>\n",
       "      <td>12558.6</td>\n",
       "      <td>2307.5</td>\n",
       "      <td>2446.6</td>\n",
       "      <td>7092.6</td>\n",
       "      <td>417.0</td>\n",
       "      <td>362</td>\n",
       "      <td>36.55</td>\n",
       "      <td>11.27</td>\n",
       "      <td>menor que  40 euros</td>\n",
       "    </tr>\n",
       "    <tr>\n",
       "      <th>3</th>\n",
       "      <td>3</td>\n",
       "      <td>2</td>\n",
       "      <td>1</td>\n",
       "      <td>4980.8</td>\n",
       "      <td>1781.5</td>\n",
       "      <td>12837.5</td>\n",
       "      <td>2307.5</td>\n",
       "      <td>2436.7</td>\n",
       "      <td>7092.6</td>\n",
       "      <td>387.0</td>\n",
       "      <td>369</td>\n",
       "      <td>32.32</td>\n",
       "      <td>11.27</td>\n",
       "      <td>menor que  40 euros</td>\n",
       "    </tr>\n",
       "    <tr>\n",
       "      <th>4</th>\n",
       "      <td>4</td>\n",
       "      <td>2</td>\n",
       "      <td>1</td>\n",
       "      <td>4984.3</td>\n",
       "      <td>1998.2</td>\n",
       "      <td>13100.9</td>\n",
       "      <td>2374.2</td>\n",
       "      <td>2448.3</td>\n",
       "      <td>7094.6</td>\n",
       "      <td>387.0</td>\n",
       "      <td>413</td>\n",
       "      <td>30.85</td>\n",
       "      <td>11.27</td>\n",
       "      <td>menor que  40 euros</td>\n",
       "    </tr>\n",
       "  </tbody>\n",
       "</table>\n",
       "</div>"
      ],
      "text/plain": [
       "   hora  dia  mes  hidraul  eolica  demanda  ciclocomb  cogener  nuclear  \\\n",
       "0     0    2    1   5221.1  1639.0  13290.5     2500.5   2493.8   7093.6   \n",
       "1     1    2    1   4928.5  1568.4  12720.1     2411.5   2447.8   7091.6   \n",
       "2     2    2    1   4860.3  1566.3  12558.6     2307.5   2446.6   7092.6   \n",
       "3     3    2    1   4980.8  1781.5  12837.5     2307.5   2436.7   7092.6   \n",
       "4     4    2    1   4984.3  1998.2  13100.9     2374.2   2448.3   7094.6   \n",
       "\n",
       "   carbon  biomas  precio-elect-dia-anterior  MIBGAS-dia-anterior  \\\n",
       "0   430.0     270                      41.88                11.27   \n",
       "1   430.0     243                      38.60                11.27   \n",
       "2   417.0     362                      36.55                11.27   \n",
       "3   387.0     369                      32.32                11.27   \n",
       "4   387.0     413                      30.85                11.27   \n",
       "\n",
       "                precio  \n",
       "0  menor que  40 euros  \n",
       "1  menor que  40 euros  \n",
       "2  menor que  40 euros  \n",
       "3  menor que  40 euros  \n",
       "4  menor que  40 euros  "
      ]
     },
     "execution_count": 3,
     "metadata": {},
     "output_type": "execute_result"
    }
   ],
   "source": [
    "# Look at the first 5 rows of the data\n",
    "### your code here\n",
    "dataset.head()"
   ]
  },
  {
   "cell_type": "markdown",
   "metadata": {},
   "source": [
    "**2. What do they mean?** \n",
    "\n",
    "***[Time, Day, Month]*** Time, day and month of each of the observations. They are integer values *int64*.\n",
    "\n",
    "***[Hydro, Wind, Cyclocomb, Cogener, Nuclear, Coal, Biomass]*** refers to the hourly scheduled energy of the PVP program in the daily market by type of production of the previous day.  These are actual *float* values.\n",
    "\n",
    "***[Demand]*** is the total scheduled energy in the daily electricity market in Spain on the previous day.  These are real *float* values.\n",
    "\n",
    "***[price-elect-day-previous-day]*** price of electricity on the previous day. These are actual *float* values.\n",
    "\n",
    "***[MIBGAS-previous-day]*** day-ahead natural gas price. These are actual *float* values.\n",
    "\n",
    "***[Classes]*** are the price tags we want to predict.\n",
    "\n",
    "\n"
   ]
  },
  {
   "cell_type": "code",
   "execution_count": 4,
   "metadata": {},
   "outputs": [
    {
     "data": {
      "text/plain": [
       "hora                           int64\n",
       "dia                            int64\n",
       "mes                            int64\n",
       "hidraul                      float64\n",
       "eolica                       float64\n",
       "demanda                      float64\n",
       "ciclocomb                    float64\n",
       "cogener                      float64\n",
       "nuclear                      float64\n",
       "carbon                       float64\n",
       "biomas                         int64\n",
       "precio-elect-dia-anterior    float64\n",
       "MIBGAS-dia-anterior          float64\n",
       "precio                        object\n",
       "dtype: object"
      ]
     },
     "execution_count": 4,
     "metadata": {},
     "output_type": "execute_result"
    }
   ],
   "source": [
    "# Data format\n",
    "### your code here\n",
    "dataset.dtypes\n"
   ]
  },
  {
   "cell_type": "markdown",
   "metadata": {},
   "source": [
    "**3. Is any data missing? If so, please indicate how many and in which attribute**. \n",
    "\n"
   ]
  },
  {
   "cell_type": "code",
   "execution_count": 5,
   "metadata": {},
   "outputs": [
    {
     "data": {
      "text/plain": [
       "hora                         0\n",
       "dia                          0\n",
       "mes                          0\n",
       "hidraul                      0\n",
       "eolica                       0\n",
       "demanda                      3\n",
       "ciclocomb                    0\n",
       "cogener                      0\n",
       "nuclear                      0\n",
       "carbon                       3\n",
       "biomas                       0\n",
       "precio-elect-dia-anterior    0\n",
       "MIBGAS-dia-anterior          0\n",
       "precio                       0\n",
       "dtype: int64"
      ]
     },
     "execution_count": 5,
     "metadata": {},
     "output_type": "execute_result"
    }
   ],
   "source": [
    "### your code here\n",
    "dataset.isna().sum()"
   ]
  },
  {
   "cell_type": "markdown",
   "metadata": {},
   "source": [
    "**4. ¿Are the targets balanced?** "
   ]
  },
  {
   "cell_type": "code",
   "execution_count": 6,
   "metadata": {},
   "outputs": [
    {
     "name": "stdout",
     "output_type": "stream",
     "text": [
      "menor que  40 euros    3507\n",
      "mayor que  40 euros     716\n",
      "Name: precio, dtype: int64\n"
     ]
    },
    {
     "data": {
      "text/plain": [
       "<AxesSubplot:ylabel='precio'>"
      ]
     },
     "execution_count": 6,
     "metadata": {},
     "output_type": "execute_result"
    },
    {
     "data": {
      "image/png": "[encoded data removed]",
      "text/plain": [
       "<Figure size 432x288 with 1 Axes>"
      ]
     },
     "metadata": {},
     "output_type": "display_data"
    }
   ],
   "source": [
    "# Check if the labels are unbalanced\n",
    "### your code here\n",
    "balance_clases = dataset['precio'].value_counts()\n",
    "\n",
    "print(balance_clases)\n",
    "\n",
    "# Class balance graph\n",
    "balance_clases.plot.pie()\n"
   ]
  },
  {
   "cell_type": "markdown",
   "metadata": {},
   "source": [
    "**5. Summary statistics of the input data set:** \n",
    "\n",
    "Descriptive statistics collects and analyzes the input data set with the objective of describing the characteristics and behaviors of this set through the following summary measures: total number of observations (count), mean (mean), standard deviation (std), minimum value (min), maximum value (max) and the values of the different quartiles (25%, 50%, 75%).\n"
   ]
  },
  {
   "cell_type": "code",
   "execution_count": 7,
   "metadata": {},
   "outputs": [
    {
     "data": {
      "text/html": [
       "<div>\n",
       "<style scoped>\n",
       "    .dataframe tbody tr th:only-of-type {\n",
       "        vertical-align: middle;\n",
       "    }\n",
       "\n",
       "    .dataframe tbody tr th {\n",
       "        vertical-align: top;\n",
       "    }\n",
       "\n",
       "    .dataframe thead th {\n",
       "        text-align: right;\n",
       "    }\n",
       "</style>\n",
       "<table border=\"1\" class=\"dataframe\">\n",
       "  <thead>\n",
       "    <tr style=\"text-align: right;\">\n",
       "      <th></th>\n",
       "      <th>hora</th>\n",
       "      <th>dia</th>\n",
       "      <th>mes</th>\n",
       "      <th>hidraul</th>\n",
       "      <th>eolica</th>\n",
       "      <th>demanda</th>\n",
       "      <th>ciclocomb</th>\n",
       "      <th>cogener</th>\n",
       "      <th>nuclear</th>\n",
       "      <th>carbon</th>\n",
       "      <th>biomas</th>\n",
       "      <th>precio-elect-dia-anterior</th>\n",
       "      <th>MIBGAS-dia-anterior</th>\n",
       "    </tr>\n",
       "  </thead>\n",
       "  <tbody>\n",
       "    <tr>\n",
       "      <th>count</th>\n",
       "      <td>4223.000000</td>\n",
       "      <td>4223.000000</td>\n",
       "      <td>4223.000000</td>\n",
       "      <td>4223.000000</td>\n",
       "      <td>4223.000000</td>\n",
       "      <td>4220.000000</td>\n",
       "      <td>4223.000000</td>\n",
       "      <td>4223.000000</td>\n",
       "      <td>4223.000000</td>\n",
       "      <td>4220.000000</td>\n",
       "      <td>4223.000000</td>\n",
       "      <td>4223.000000</td>\n",
       "      <td>4223.000000</td>\n",
       "    </tr>\n",
       "    <tr>\n",
       "      <th>mean</th>\n",
       "      <td>11.502250</td>\n",
       "      <td>15.411556</td>\n",
       "      <td>3.443287</td>\n",
       "      <td>3090.683495</td>\n",
       "      <td>6142.901373</td>\n",
       "      <td>20223.538578</td>\n",
       "      <td>2337.097135</td>\n",
       "      <td>3059.788942</td>\n",
       "      <td>6019.210466</td>\n",
       "      <td>674.060308</td>\n",
       "      <td>374.144684</td>\n",
       "      <td>28.813694</td>\n",
       "      <td>8.288518</td>\n",
       "    </tr>\n",
       "    <tr>\n",
       "      <th>std</th>\n",
       "      <td>6.922282</td>\n",
       "      <td>8.598094</td>\n",
       "      <td>1.674775</td>\n",
       "      <td>1398.795645</td>\n",
       "      <td>3488.275912</td>\n",
       "      <td>3945.242127</td>\n",
       "      <td>1488.503359</td>\n",
       "      <td>282.994453</td>\n",
       "      <td>1212.068728</td>\n",
       "      <td>444.206117</td>\n",
       "      <td>102.061931</td>\n",
       "      <td>10.929161</td>\n",
       "      <td>2.347374</td>\n",
       "    </tr>\n",
       "    <tr>\n",
       "      <th>min</th>\n",
       "      <td>0.000000</td>\n",
       "      <td>1.000000</td>\n",
       "      <td>1.000000</td>\n",
       "      <td>856.600000</td>\n",
       "      <td>614.400000</td>\n",
       "      <td>0.000000</td>\n",
       "      <td>460.000000</td>\n",
       "      <td>1825.500000</td>\n",
       "      <td>3410.200000</td>\n",
       "      <td>0.000000</td>\n",
       "      <td>197.000000</td>\n",
       "      <td>1.020000</td>\n",
       "      <td>4.170000</td>\n",
       "    </tr>\n",
       "    <tr>\n",
       "      <th>25%</th>\n",
       "      <td>6.000000</td>\n",
       "      <td>8.000000</td>\n",
       "      <td>2.000000</td>\n",
       "      <td>1924.150000</td>\n",
       "      <td>3447.650000</td>\n",
       "      <td>17123.000000</td>\n",
       "      <td>1255.600000</td>\n",
       "      <td>2909.150000</td>\n",
       "      <td>4886.200000</td>\n",
       "      <td>413.000000</td>\n",
       "      <td>287.000000</td>\n",
       "      <td>21.080000</td>\n",
       "      <td>6.040000</td>\n",
       "    </tr>\n",
       "    <tr>\n",
       "      <th>50%</th>\n",
       "      <td>12.000000</td>\n",
       "      <td>15.000000</td>\n",
       "      <td>3.000000</td>\n",
       "      <td>2760.400000</td>\n",
       "      <td>5394.900000</td>\n",
       "      <td>20094.500000</td>\n",
       "      <td>1962.600000</td>\n",
       "      <td>3089.300000</td>\n",
       "      <td>6730.500000</td>\n",
       "      <td>530.000000</td>\n",
       "      <td>373.000000</td>\n",
       "      <td>28.410000</td>\n",
       "      <td>8.180000</td>\n",
       "    </tr>\n",
       "    <tr>\n",
       "      <th>75%</th>\n",
       "      <td>17.500000</td>\n",
       "      <td>23.000000</td>\n",
       "      <td>5.000000</td>\n",
       "      <td>4126.450000</td>\n",
       "      <td>8229.350000</td>\n",
       "      <td>22871.725000</td>\n",
       "      <td>2893.350000</td>\n",
       "      <td>3238.150000</td>\n",
       "      <td>7089.500000</td>\n",
       "      <td>973.000000</td>\n",
       "      <td>462.000000</td>\n",
       "      <td>36.670000</td>\n",
       "      <td>9.975000</td>\n",
       "    </tr>\n",
       "    <tr>\n",
       "      <th>max</th>\n",
       "      <td>23.000000</td>\n",
       "      <td>31.000000</td>\n",
       "      <td>6.000000</td>\n",
       "      <td>7411.900000</td>\n",
       "      <td>18996.300000</td>\n",
       "      <td>35458.900000</td>\n",
       "      <td>9078.400000</td>\n",
       "      <td>3696.800000</td>\n",
       "      <td>7100.500000</td>\n",
       "      <td>2065.000000</td>\n",
       "      <td>551.000000</td>\n",
       "      <td>62.480000</td>\n",
       "      <td>14.480000</td>\n",
       "    </tr>\n",
       "  </tbody>\n",
       "</table>\n",
       "</div>"
      ],
      "text/plain": [
       "              hora          dia          mes      hidraul        eolica  \\\n",
       "count  4223.000000  4223.000000  4223.000000  4223.000000   4223.000000   \n",
       "mean     11.502250    15.411556     3.443287  3090.683495   6142.901373   \n",
       "std       6.922282     8.598094     1.674775  1398.795645   3488.275912   \n",
       "min       0.000000     1.000000     1.000000   856.600000    614.400000   \n",
       "25%       6.000000     8.000000     2.000000  1924.150000   3447.650000   \n",
       "50%      12.000000    15.000000     3.000000  2760.400000   5394.900000   \n",
       "75%      17.500000    23.000000     5.000000  4126.450000   8229.350000   \n",
       "max      23.000000    31.000000     6.000000  7411.900000  18996.300000   \n",
       "\n",
       "            demanda    ciclocomb      cogener      nuclear       carbon  \\\n",
       "count   4220.000000  4223.000000  4223.000000  4223.000000  4220.000000   \n",
       "mean   20223.538578  2337.097135  3059.788942  6019.210466   674.060308   \n",
       "std     3945.242127  1488.503359   282.994453  1212.068728   444.206117   \n",
       "min        0.000000   460.000000  1825.500000  3410.200000     0.000000   \n",
       "25%    17123.000000  1255.600000  2909.150000  4886.200000   413.000000   \n",
       "50%    20094.500000  1962.600000  3089.300000  6730.500000   530.000000   \n",
       "75%    22871.725000  2893.350000  3238.150000  7089.500000   973.000000   \n",
       "max    35458.900000  9078.400000  3696.800000  7100.500000  2065.000000   \n",
       "\n",
       "            biomas  precio-elect-dia-anterior  MIBGAS-dia-anterior  \n",
       "count  4223.000000                4223.000000          4223.000000  \n",
       "mean    374.144684                  28.813694             8.288518  \n",
       "std     102.061931                  10.929161             2.347374  \n",
       "min     197.000000                   1.020000             4.170000  \n",
       "25%     287.000000                  21.080000             6.040000  \n",
       "50%     373.000000                  28.410000             8.180000  \n",
       "75%     462.000000                  36.670000             9.975000  \n",
       "max     551.000000                  62.480000            14.480000  "
      ]
     },
     "execution_count": 7,
     "metadata": {},
     "output_type": "execute_result"
    }
   ],
   "source": [
    "# Statistical data for each attribute\n",
    "### your code here\n",
    "dataset.describe()"
   ]
  },
  {
   "cell_type": "markdown",
   "metadata": {},
   "source": [
    "## **3. Visualize the data**.\n",
    "\n",
    "A visual way to understand the input data. \n",
    "1. Histogram\n",
    "2. Density curve\n",
    "3. Boxplots\n",
    "4. Correlation matrix\n"
   ]
  },
  {
   "cell_type": "markdown",
   "metadata": {},
   "source": [
    "**1. Histogram**\n",
    "\n",
    "Graphical representation of each of the attributes in the form of bars, where the surface of the bar is proportional to the frequency of the values represented."
   ]
  },
  {
   "cell_type": "code",
   "execution_count": 8,
   "metadata": {},
   "outputs": [
    {
     "data": {
      "image/png": "[encoded data removed]",
      "text/plain": [
       "<Figure size 1080x720 with 16 Axes>"
      ]
     },
     "metadata": {
      "needs_background": "light"
     },
     "output_type": "display_data"
    }
   ],
   "source": [
    "histogram = dataset.hist(xlabelsize=10, ylabelsize=10, bins=50, figsize=(15, 10))"
   ]
  },
  {
   "cell_type": "markdown",
   "metadata": {},
   "source": [
    "**2. Density graph**.\n",
    "\n",
    "Visualizes the distribution of the data. It is a variable of the histogram, but removes noise, so they are better for determining the distribution shape of an attribute. Density plot spikes help show where values are most concentrated. "
   ]
  },
  {
   "cell_type": "code",
   "execution_count": 9,
   "metadata": {},
   "outputs": [
    {
     "data": {
      "image/png": "[encoded data removed]",
      "text/plain": [
       "<Figure size 1224x864 with 16 Axes>"
      ]
     },
     "metadata": {
      "needs_background": "light"
     },
     "output_type": "display_data"
    }
   ],
   "source": [
    "density = dataset.plot(kind='kde', x=4, subplots=True, legend=True, layout=(4, 4), figsize=(17, 12), sharex=False,\n",
    "                        fontsize=8, stacked=True) "
   ]
  },
  {
   "cell_type": "markdown",
   "metadata": {},
   "source": [
    "**3. Boxplots** \n",
    "\n",
    "The boxplot allows us to identify outliers and compare distributions. In addition, we know how 50% of the values are distributed (within the box).\n",
    "\n",
    "* Which attribute is striking because of its outliers? "
   ]
  },
  {
   "cell_type": "code",
   "execution_count": 10,
   "metadata": {},
   "outputs": [
    {
     "data": {
      "image/png": "[encoded data removed]",
      "text/plain": [
       "<Figure size 1080x720 with 16 Axes>"
      ]
     },
     "metadata": {
      "needs_background": "light"
     },
     "output_type": "display_data"
    }
   ],
   "source": [
    "atributs_boxplot = dataset.plot(kind='box', subplots=True, layout=(4, 4), figsize=(15, 10), sharex=False,\n",
    "                                 sharey=False, fontsize=10)"
   ]
  },
  {
   "cell_type": "markdown",
   "metadata": {},
   "source": [
    "**4. Correlation matrix**. \n",
    "We use Spearman's method to evaluate the monotonic relationship between two continuous variables. \n",
    "\n",
    "Comparison between [Pearson y Spearman]\n",
    "\n",
    "[Pearson y Spearman]: https://support.minitab.com/es-mx/minitab/18/help-and-how-to/statistics/basic-statistics/supporting-topics/correlation-and-covariance/a-comparison-of-the-pearson-and-spearman-correlation-methods/\n",
    "\n",
    "\n",
    "* **Which variable has no correlation with any attribute?** "
   ]
  },
  {
   "cell_type": "code",
   "execution_count": 11,
   "metadata": {
    "scrolled": false
   },
   "outputs": [],
   "source": [
    "#  Other data visualization library: seaborn\n",
    "import seaborn as sns\n",
    "\n",
    "# Calculation of correlation coefficients\n",
    "### your code here\n",
    "corr_matrix= dataset.corr(method='spearman')\n",
    "\n"
   ]
  },
  {
   "cell_type": "code",
   "execution_count": 12,
   "metadata": {},
   "outputs": [
    {
     "name": "stderr",
     "output_type": "stream",
     "text": [
      "/var/folders/hb/hsxv_19969b646bj1n59j_3w0000gn/T/ipykernel_81501/351873892.py:2: DeprecationWarning: `np.bool` is a deprecated alias for the builtin `bool`. To silence this warning, use `bool` by itself. Doing this will not modify any behavior and is safe. If you specifically wanted the numpy scalar type, use `np.bool_` here.\n",
      "Deprecated in NumPy 1.20; for more details and guidance: https://numpy.org/devdocs/release/1.20.0-notes.html#deprecations\n",
      "  mask = np.zeros_like(corr_matrix, dtype=np.bool)\n"
     ]
    },
    {
     "data": {
      "image/png": "[encoded data removed]",
      "text/plain": [
       "<Figure size 864x864 with 2 Axes>"
      ]
     },
     "metadata": {
      "needs_background": "light"
     },
     "output_type": "display_data"
    }
   ],
   "source": [
    "\n",
    "# Remove repeated values\n",
    "mask = np.zeros_like(corr_matrix, dtype=np.bool)\n",
    "mask[np.triu_indices_from(mask)] = True\n",
    "\n",
    "  \n",
    "f, ax = plt.subplots(figsize=(12, 12))\n",
    "\n",
    "#Generate Heat Map,\n",
    "sns.heatmap(corr_matrix, annot=True, fmt=\".2f\" , mask=mask,)\n",
    "    # xticks\n",
    "plt.xticks(range(len(corr_matrix.columns)), corr_matrix.columns);\n",
    "    # yticks\n",
    "plt.yticks(range(len(corr_matrix.columns)), corr_matrix.columns)\n",
    "    # plot\n",
    "plt.show()\n",
    "# Prices are missing as it is a object datatype"
   ]
  },
  {
   "cell_type": "markdown",
   "metadata": {},
   "source": [
    "We cannot see the correlation with the price, we must pass it to numeric *LabelEncoder*."
   ]
  },
  {
   "cell_type": "code",
   "execution_count": 13,
   "metadata": {},
   "outputs": [
    {
     "name": "stdout",
     "output_type": "stream",
     "text": [
      "['mayor que  40 euros' 'menor que  40 euros']\n",
      "      hora  dia  mes  hidraul  eolica  demanda  ciclocomb  cogener  nuclear  \\\n",
      "0        0    2    1   5221.1  1639.0  13290.5     2500.5   2493.8   7093.6   \n",
      "1        1    2    1   4928.5  1568.4  12720.1     2411.5   2447.8   7091.6   \n",
      "2        2    2    1   4860.3  1566.3  12558.6     2307.5   2446.6   7092.6   \n",
      "3        3    2    1   4980.8  1781.5  12837.5     2307.5   2436.7   7092.6   \n",
      "4        4    2    1   4984.3  1998.2  13100.9     2374.2   2448.3   7094.6   \n",
      "...    ...  ...  ...      ...     ...      ...        ...      ...      ...   \n",
      "4218    19   26    6   4230.5  3680.1  29267.6     7090.4   3200.0   5061.4   \n",
      "4219    20   26    6   4479.3  3828.2  29025.5     7130.7   3203.2   5063.4   \n",
      "4220    21   26    6   3800.5  3712.7  29266.4     6764.1   3217.7   5062.4   \n",
      "4221    22   26    6   3529.7  3780.1  28711.2     6745.1   3215.0   5064.4   \n",
      "4222    23   26    6   2650.6  3676.9  26581.4     6650.9   3209.0   5065.4   \n",
      "\n",
      "      carbon  biomas  precio-elect-dia-anterior  MIBGAS-dia-anterior  precio  \n",
      "0      430.0     270                      41.88                11.27       1  \n",
      "1      430.0     243                      38.60                11.27       1  \n",
      "2      417.0     362                      36.55                11.27       1  \n",
      "3      387.0     369                      32.32                11.27       1  \n",
      "4      387.0     413                      30.85                11.27       1  \n",
      "...      ...     ...                        ...                  ...     ...  \n",
      "4218   946.0     365                      40.44                 7.28       1  \n",
      "4219   946.0     453                      41.23                 7.28       0  \n",
      "4220   946.0     362                      40.24                 7.28       1  \n",
      "4221   946.0     424                      40.10                 7.28       0  \n",
      "4222   946.0     358                      38.63                 7.28       1  \n",
      "\n",
      "[4223 rows x 14 columns]\n"
     ]
    }
   ],
   "source": [
    "from sklearn.preprocessing import LabelEncoder\n",
    "\n",
    "lab_encoder = LabelEncoder() \n",
    "lab_encoder.fit(dataset['precio'])  \n",
    "print(lab_encoder.classes_)  # Shows the different classes that exist\n",
    "\n",
    "dataset['precio'] = lab_encoder.transform(dataset['precio'])\n",
    "print(dataset)"
   ]
  },
  {
   "cell_type": "code",
   "execution_count": 14,
   "metadata": {},
   "outputs": [],
   "source": [
    "# replace column values 0 with 1 and 1 with 0\n",
    "dataset['precio'] = dataset['precio'].map({1:0 ,0:1})\n",
    "### your code here"
   ]
  },
  {
   "cell_type": "code",
   "execution_count": 15,
   "metadata": {
    "scrolled": true
   },
   "outputs": [
    {
     "data": {
      "text/html": [
       "<div>\n",
       "<style scoped>\n",
       "    .dataframe tbody tr th:only-of-type {\n",
       "        vertical-align: middle;\n",
       "    }\n",
       "\n",
       "    .dataframe tbody tr th {\n",
       "        vertical-align: top;\n",
       "    }\n",
       "\n",
       "    .dataframe thead th {\n",
       "        text-align: right;\n",
       "    }\n",
       "</style>\n",
       "<table border=\"1\" class=\"dataframe\">\n",
       "  <thead>\n",
       "    <tr style=\"text-align: right;\">\n",
       "      <th></th>\n",
       "      <th>hora</th>\n",
       "      <th>dia</th>\n",
       "      <th>mes</th>\n",
       "      <th>hidraul</th>\n",
       "      <th>eolica</th>\n",
       "      <th>demanda</th>\n",
       "      <th>ciclocomb</th>\n",
       "      <th>cogener</th>\n",
       "      <th>nuclear</th>\n",
       "      <th>carbon</th>\n",
       "      <th>biomas</th>\n",
       "      <th>precio-elect-dia-anterior</th>\n",
       "      <th>MIBGAS-dia-anterior</th>\n",
       "      <th>precio</th>\n",
       "    </tr>\n",
       "  </thead>\n",
       "  <tbody>\n",
       "    <tr>\n",
       "      <th>0</th>\n",
       "      <td>0</td>\n",
       "      <td>2</td>\n",
       "      <td>1</td>\n",
       "      <td>5221.1</td>\n",
       "      <td>1639.0</td>\n",
       "      <td>13290.5</td>\n",
       "      <td>2500.5</td>\n",
       "      <td>2493.8</td>\n",
       "      <td>7093.6</td>\n",
       "      <td>430.0</td>\n",
       "      <td>270</td>\n",
       "      <td>41.88</td>\n",
       "      <td>11.27</td>\n",
       "      <td>0</td>\n",
       "    </tr>\n",
       "    <tr>\n",
       "      <th>1</th>\n",
       "      <td>1</td>\n",
       "      <td>2</td>\n",
       "      <td>1</td>\n",
       "      <td>4928.5</td>\n",
       "      <td>1568.4</td>\n",
       "      <td>12720.1</td>\n",
       "      <td>2411.5</td>\n",
       "      <td>2447.8</td>\n",
       "      <td>7091.6</td>\n",
       "      <td>430.0</td>\n",
       "      <td>243</td>\n",
       "      <td>38.60</td>\n",
       "      <td>11.27</td>\n",
       "      <td>0</td>\n",
       "    </tr>\n",
       "    <tr>\n",
       "      <th>2</th>\n",
       "      <td>2</td>\n",
       "      <td>2</td>\n",
       "      <td>1</td>\n",
       "      <td>4860.3</td>\n",
       "      <td>1566.3</td>\n",
       "      <td>12558.6</td>\n",
       "      <td>2307.5</td>\n",
       "      <td>2446.6</td>\n",
       "      <td>7092.6</td>\n",
       "      <td>417.0</td>\n",
       "      <td>362</td>\n",
       "      <td>36.55</td>\n",
       "      <td>11.27</td>\n",
       "      <td>0</td>\n",
       "    </tr>\n",
       "    <tr>\n",
       "      <th>3</th>\n",
       "      <td>3</td>\n",
       "      <td>2</td>\n",
       "      <td>1</td>\n",
       "      <td>4980.8</td>\n",
       "      <td>1781.5</td>\n",
       "      <td>12837.5</td>\n",
       "      <td>2307.5</td>\n",
       "      <td>2436.7</td>\n",
       "      <td>7092.6</td>\n",
       "      <td>387.0</td>\n",
       "      <td>369</td>\n",
       "      <td>32.32</td>\n",
       "      <td>11.27</td>\n",
       "      <td>0</td>\n",
       "    </tr>\n",
       "    <tr>\n",
       "      <th>4</th>\n",
       "      <td>4</td>\n",
       "      <td>2</td>\n",
       "      <td>1</td>\n",
       "      <td>4984.3</td>\n",
       "      <td>1998.2</td>\n",
       "      <td>13100.9</td>\n",
       "      <td>2374.2</td>\n",
       "      <td>2448.3</td>\n",
       "      <td>7094.6</td>\n",
       "      <td>387.0</td>\n",
       "      <td>413</td>\n",
       "      <td>30.85</td>\n",
       "      <td>11.27</td>\n",
       "      <td>0</td>\n",
       "    </tr>\n",
       "    <tr>\n",
       "      <th>...</th>\n",
       "      <td>...</td>\n",
       "      <td>...</td>\n",
       "      <td>...</td>\n",
       "      <td>...</td>\n",
       "      <td>...</td>\n",
       "      <td>...</td>\n",
       "      <td>...</td>\n",
       "      <td>...</td>\n",
       "      <td>...</td>\n",
       "      <td>...</td>\n",
       "      <td>...</td>\n",
       "      <td>...</td>\n",
       "      <td>...</td>\n",
       "      <td>...</td>\n",
       "    </tr>\n",
       "    <tr>\n",
       "      <th>4218</th>\n",
       "      <td>19</td>\n",
       "      <td>26</td>\n",
       "      <td>6</td>\n",
       "      <td>4230.5</td>\n",
       "      <td>3680.1</td>\n",
       "      <td>29267.6</td>\n",
       "      <td>7090.4</td>\n",
       "      <td>3200.0</td>\n",
       "      <td>5061.4</td>\n",
       "      <td>946.0</td>\n",
       "      <td>365</td>\n",
       "      <td>40.44</td>\n",
       "      <td>7.28</td>\n",
       "      <td>0</td>\n",
       "    </tr>\n",
       "    <tr>\n",
       "      <th>4219</th>\n",
       "      <td>20</td>\n",
       "      <td>26</td>\n",
       "      <td>6</td>\n",
       "      <td>4479.3</td>\n",
       "      <td>3828.2</td>\n",
       "      <td>29025.5</td>\n",
       "      <td>7130.7</td>\n",
       "      <td>3203.2</td>\n",
       "      <td>5063.4</td>\n",
       "      <td>946.0</td>\n",
       "      <td>453</td>\n",
       "      <td>41.23</td>\n",
       "      <td>7.28</td>\n",
       "      <td>1</td>\n",
       "    </tr>\n",
       "    <tr>\n",
       "      <th>4220</th>\n",
       "      <td>21</td>\n",
       "      <td>26</td>\n",
       "      <td>6</td>\n",
       "      <td>3800.5</td>\n",
       "      <td>3712.7</td>\n",
       "      <td>29266.4</td>\n",
       "      <td>6764.1</td>\n",
       "      <td>3217.7</td>\n",
       "      <td>5062.4</td>\n",
       "      <td>946.0</td>\n",
       "      <td>362</td>\n",
       "      <td>40.24</td>\n",
       "      <td>7.28</td>\n",
       "      <td>0</td>\n",
       "    </tr>\n",
       "    <tr>\n",
       "      <th>4221</th>\n",
       "      <td>22</td>\n",
       "      <td>26</td>\n",
       "      <td>6</td>\n",
       "      <td>3529.7</td>\n",
       "      <td>3780.1</td>\n",
       "      <td>28711.2</td>\n",
       "      <td>6745.1</td>\n",
       "      <td>3215.0</td>\n",
       "      <td>5064.4</td>\n",
       "      <td>946.0</td>\n",
       "      <td>424</td>\n",
       "      <td>40.10</td>\n",
       "      <td>7.28</td>\n",
       "      <td>1</td>\n",
       "    </tr>\n",
       "    <tr>\n",
       "      <th>4222</th>\n",
       "      <td>23</td>\n",
       "      <td>26</td>\n",
       "      <td>6</td>\n",
       "      <td>2650.6</td>\n",
       "      <td>3676.9</td>\n",
       "      <td>26581.4</td>\n",
       "      <td>6650.9</td>\n",
       "      <td>3209.0</td>\n",
       "      <td>5065.4</td>\n",
       "      <td>946.0</td>\n",
       "      <td>358</td>\n",
       "      <td>38.63</td>\n",
       "      <td>7.28</td>\n",
       "      <td>0</td>\n",
       "    </tr>\n",
       "  </tbody>\n",
       "</table>\n",
       "<p>4223 rows × 14 columns</p>\n",
       "</div>"
      ],
      "text/plain": [
       "      hora  dia  mes  hidraul  eolica  demanda  ciclocomb  cogener  nuclear  \\\n",
       "0        0    2    1   5221.1  1639.0  13290.5     2500.5   2493.8   7093.6   \n",
       "1        1    2    1   4928.5  1568.4  12720.1     2411.5   2447.8   7091.6   \n",
       "2        2    2    1   4860.3  1566.3  12558.6     2307.5   2446.6   7092.6   \n",
       "3        3    2    1   4980.8  1781.5  12837.5     2307.5   2436.7   7092.6   \n",
       "4        4    2    1   4984.3  1998.2  13100.9     2374.2   2448.3   7094.6   \n",
       "...    ...  ...  ...      ...     ...      ...        ...      ...      ...   \n",
       "4218    19   26    6   4230.5  3680.1  29267.6     7090.4   3200.0   5061.4   \n",
       "4219    20   26    6   4479.3  3828.2  29025.5     7130.7   3203.2   5063.4   \n",
       "4220    21   26    6   3800.5  3712.7  29266.4     6764.1   3217.7   5062.4   \n",
       "4221    22   26    6   3529.7  3780.1  28711.2     6745.1   3215.0   5064.4   \n",
       "4222    23   26    6   2650.6  3676.9  26581.4     6650.9   3209.0   5065.4   \n",
       "\n",
       "      carbon  biomas  precio-elect-dia-anterior  MIBGAS-dia-anterior  precio  \n",
       "0      430.0     270                      41.88                11.27       0  \n",
       "1      430.0     243                      38.60                11.27       0  \n",
       "2      417.0     362                      36.55                11.27       0  \n",
       "3      387.0     369                      32.32                11.27       0  \n",
       "4      387.0     413                      30.85                11.27       0  \n",
       "...      ...     ...                        ...                  ...     ...  \n",
       "4218   946.0     365                      40.44                 7.28       0  \n",
       "4219   946.0     453                      41.23                 7.28       1  \n",
       "4220   946.0     362                      40.24                 7.28       0  \n",
       "4221   946.0     424                      40.10                 7.28       1  \n",
       "4222   946.0     358                      38.63                 7.28       0  \n",
       "\n",
       "[4223 rows x 14 columns]"
      ]
     },
     "execution_count": 15,
     "metadata": {},
     "output_type": "execute_result"
    }
   ],
   "source": [
    "# Show the first 10 rows of the dataset\n",
    "dataset\n",
    "### your code here\n"
   ]
  },
  {
   "cell_type": "markdown",
   "metadata": {},
   "source": [
    "#### We show again the correlation matrix with the value of the price [1 (very high), 0 (normal)]\n"
   ]
  },
  {
   "cell_type": "code",
   "execution_count": 16,
   "metadata": {},
   "outputs": [
    {
     "name": "stderr",
     "output_type": "stream",
     "text": [
      "/var/folders/hb/hsxv_19969b646bj1n59j_3w0000gn/T/ipykernel_81501/109467060.py:7: DeprecationWarning: `np.bool` is a deprecated alias for the builtin `bool`. To silence this warning, use `bool` by itself. Doing this will not modify any behavior and is safe. If you specifically wanted the numpy scalar type, use `np.bool_` here.\n",
      "Deprecated in NumPy 1.20; for more details and guidance: https://numpy.org/devdocs/release/1.20.0-notes.html#deprecations\n",
      "  mask = np.zeros_like(corr_matrix, dtype=np.bool)\n"
     ]
    },
    {
     "data": {
      "image/png": "[encoded data removed]",
      "text/plain": [
       "<Figure size 864x864 with 2 Axes>"
      ]
     },
     "metadata": {
      "needs_background": "light"
     },
     "output_type": "display_data"
    }
   ],
   "source": [
    "# Calculation of correlation coefficients\n",
    "\n",
    "### your code here\n",
    "corr_matrix= dataset.corr(method='spearman')\n",
    "\n",
    "# Remove repeated values\n",
    "mask = np.zeros_like(corr_matrix, dtype=np.bool)\n",
    "mask[np.triu_indices_from(mask)] = True\n",
    "\n",
    "  \n",
    "f, ax = plt.subplots(figsize=(12, 12))\n",
    "#Generate Heat Map,\n",
    "sns.heatmap(corr_matrix, annot=True, fmt=\".2f\" , mask=mask,)\n",
    "    # xticks\n",
    "plt.xticks(range(len(corr_matrix.columns)), corr_matrix.columns);\n",
    "    # yticks\n",
    "plt.yticks(range(len(corr_matrix.columns)), corr_matrix.columns)\n",
    "    # plot\n",
    "plt.show()"
   ]
  },
  {
   "cell_type": "markdown",
   "metadata": {},
   "source": [
    "## *4. Prepare the data*.\n",
    "\n",
    "1. Missing data\n",
    "2. Data cleaning (remove outliers).\n",
    "3. LabelEncoding (we have already done it).\n",
    "4. Feature engineering\n",
    "5. Transformation."
   ]
  },
  {
   "cell_type": "markdown",
   "metadata": {},
   "source": [
    "First, I divide the data into **attributes**: X (features) and **tags**: y (target)."
   ]
  },
  {
   "cell_type": "code",
   "execution_count": 17,
   "metadata": {},
   "outputs": [],
   "source": [
    "# Atributes X (features); labels y (target)\n",
    "### your code here\n",
    "X = dataset.drop(['precio'], axis=1)\n",
    "#X.drop['biomas']\n",
    "\n",
    "y = dataset['precio']\n"
   ]
  },
  {
   "cell_type": "markdown",
   "metadata": {},
   "source": [
    "**Missing data**\n",
    "\n",
    "Check whether Nan exists in the input data.\n",
    "\n",
    "- The following method is used [fillna] from Pandas.\n",
    "\n",
    "- Learn more about how to allocate values with [Scikit Learn]\n",
    "\n",
    "[Scikit Learn]: https://scikit-learn.org/stable/modules/impute.html\n",
    "[fillna]: https://pandas.pydata.org/pandas-docs/stable/reference/api/pandas.DataFrame.fillna.html\n",
    "\n",
    "\n",
    "\n"
   ]
  },
  {
   "cell_type": "code",
   "execution_count": 18,
   "metadata": {},
   "outputs": [
    {
     "data": {
      "text/plain": [
       "hora                         0\n",
       "dia                          0\n",
       "mes                          0\n",
       "hidraul                      0\n",
       "eolica                       0\n",
       "demanda                      3\n",
       "ciclocomb                    0\n",
       "cogener                      0\n",
       "nuclear                      0\n",
       "carbon                       3\n",
       "biomas                       0\n",
       "precio-elect-dia-anterior    0\n",
       "MIBGAS-dia-anterior          0\n",
       "dtype: int64"
      ]
     },
     "execution_count": 18,
     "metadata": {},
     "output_type": "execute_result"
    }
   ],
   "source": [
    "# Check for missing data in attributes\n",
    "### your code here\n",
    "X.isna().sum()"
   ]
  },
  {
   "cell_type": "code",
   "execution_count": 19,
   "metadata": {
    "scrolled": true
   },
   "outputs": [],
   "source": [
    "# Fill the missing values of each attribute with the previous value of the attribute. \n",
    "### your code here\n",
    "X['demanda'].fillna(method='ffill', inplace=True)\n",
    "X['carbon'].fillna(method='ffill', inplace=True)"
   ]
  },
  {
   "cell_type": "code",
   "execution_count": 20,
   "metadata": {},
   "outputs": [
    {
     "data": {
      "text/plain": [
       "0"
      ]
     },
     "execution_count": 20,
     "metadata": {},
     "output_type": "execute_result"
    }
   ],
   "source": [
    "# Check for missing data in the target\n",
    "### your code here\n",
    "y.isna().sum()"
   ]
  },
  {
   "cell_type": "code",
   "execution_count": 21,
   "metadata": {},
   "outputs": [
    {
     "data": {
      "text/plain": [
       "hora                         0\n",
       "dia                          0\n",
       "mes                          0\n",
       "hidraul                      0\n",
       "eolica                       0\n",
       "demanda                      0\n",
       "ciclocomb                    0\n",
       "cogener                      0\n",
       "nuclear                      0\n",
       "carbon                       0\n",
       "biomas                       0\n",
       "precio-elect-dia-anterior    0\n",
       "MIBGAS-dia-anterior          0\n",
       "dtype: int64"
      ]
     },
     "execution_count": 21,
     "metadata": {},
     "output_type": "execute_result"
    }
   ],
   "source": [
    "# Check that no value is missing\n",
    "X.isna().sum()\n",
    "### your code here\n"
   ]
  },
  {
   "cell_type": "markdown",
   "metadata": {},
   "source": [
    "**3. Feature engineering**\n",
    "\n",
    "Using the correlation matrix, eliminate the attributes with a correlation close to 0 with the **\"price\"** tag. \n",
    "\n",
    "**Which attribute(s) are eliminated?**"
   ]
  },
  {
   "cell_type": "code",
   "execution_count": 22,
   "metadata": {},
   "outputs": [],
   "source": [
    "# Delete the attribute\n",
    "### your code here\n",
    "X.drop(['biomas', 'dia','eolica'], axis=1, inplace=True)"
   ]
  },
  {
   "cell_type": "code",
   "execution_count": 23,
   "metadata": {
    "scrolled": true
   },
   "outputs": [
    {
     "data": {
      "text/html": [
       "<div>\n",
       "<style scoped>\n",
       "    .dataframe tbody tr th:only-of-type {\n",
       "        vertical-align: middle;\n",
       "    }\n",
       "\n",
       "    .dataframe tbody tr th {\n",
       "        vertical-align: top;\n",
       "    }\n",
       "\n",
       "    .dataframe thead th {\n",
       "        text-align: right;\n",
       "    }\n",
       "</style>\n",
       "<table border=\"1\" class=\"dataframe\">\n",
       "  <thead>\n",
       "    <tr style=\"text-align: right;\">\n",
       "      <th></th>\n",
       "      <th>hora</th>\n",
       "      <th>mes</th>\n",
       "      <th>hidraul</th>\n",
       "      <th>demanda</th>\n",
       "      <th>ciclocomb</th>\n",
       "      <th>cogener</th>\n",
       "      <th>nuclear</th>\n",
       "      <th>carbon</th>\n",
       "      <th>precio-elect-dia-anterior</th>\n",
       "      <th>MIBGAS-dia-anterior</th>\n",
       "    </tr>\n",
       "  </thead>\n",
       "  <tbody>\n",
       "    <tr>\n",
       "      <th>0</th>\n",
       "      <td>0</td>\n",
       "      <td>1</td>\n",
       "      <td>5221.1</td>\n",
       "      <td>13290.5</td>\n",
       "      <td>2500.5</td>\n",
       "      <td>2493.8</td>\n",
       "      <td>7093.6</td>\n",
       "      <td>430.0</td>\n",
       "      <td>41.88</td>\n",
       "      <td>11.27</td>\n",
       "    </tr>\n",
       "    <tr>\n",
       "      <th>1</th>\n",
       "      <td>1</td>\n",
       "      <td>1</td>\n",
       "      <td>4928.5</td>\n",
       "      <td>12720.1</td>\n",
       "      <td>2411.5</td>\n",
       "      <td>2447.8</td>\n",
       "      <td>7091.6</td>\n",
       "      <td>430.0</td>\n",
       "      <td>38.60</td>\n",
       "      <td>11.27</td>\n",
       "    </tr>\n",
       "    <tr>\n",
       "      <th>2</th>\n",
       "      <td>2</td>\n",
       "      <td>1</td>\n",
       "      <td>4860.3</td>\n",
       "      <td>12558.6</td>\n",
       "      <td>2307.5</td>\n",
       "      <td>2446.6</td>\n",
       "      <td>7092.6</td>\n",
       "      <td>417.0</td>\n",
       "      <td>36.55</td>\n",
       "      <td>11.27</td>\n",
       "    </tr>\n",
       "    <tr>\n",
       "      <th>3</th>\n",
       "      <td>3</td>\n",
       "      <td>1</td>\n",
       "      <td>4980.8</td>\n",
       "      <td>12837.5</td>\n",
       "      <td>2307.5</td>\n",
       "      <td>2436.7</td>\n",
       "      <td>7092.6</td>\n",
       "      <td>387.0</td>\n",
       "      <td>32.32</td>\n",
       "      <td>11.27</td>\n",
       "    </tr>\n",
       "    <tr>\n",
       "      <th>4</th>\n",
       "      <td>4</td>\n",
       "      <td>1</td>\n",
       "      <td>4984.3</td>\n",
       "      <td>13100.9</td>\n",
       "      <td>2374.2</td>\n",
       "      <td>2448.3</td>\n",
       "      <td>7094.6</td>\n",
       "      <td>387.0</td>\n",
       "      <td>30.85</td>\n",
       "      <td>11.27</td>\n",
       "    </tr>\n",
       "    <tr>\n",
       "      <th>...</th>\n",
       "      <td>...</td>\n",
       "      <td>...</td>\n",
       "      <td>...</td>\n",
       "      <td>...</td>\n",
       "      <td>...</td>\n",
       "      <td>...</td>\n",
       "      <td>...</td>\n",
       "      <td>...</td>\n",
       "      <td>...</td>\n",
       "      <td>...</td>\n",
       "    </tr>\n",
       "    <tr>\n",
       "      <th>4218</th>\n",
       "      <td>19</td>\n",
       "      <td>6</td>\n",
       "      <td>4230.5</td>\n",
       "      <td>29267.6</td>\n",
       "      <td>7090.4</td>\n",
       "      <td>3200.0</td>\n",
       "      <td>5061.4</td>\n",
       "      <td>946.0</td>\n",
       "      <td>40.44</td>\n",
       "      <td>7.28</td>\n",
       "    </tr>\n",
       "    <tr>\n",
       "      <th>4219</th>\n",
       "      <td>20</td>\n",
       "      <td>6</td>\n",
       "      <td>4479.3</td>\n",
       "      <td>29025.5</td>\n",
       "      <td>7130.7</td>\n",
       "      <td>3203.2</td>\n",
       "      <td>5063.4</td>\n",
       "      <td>946.0</td>\n",
       "      <td>41.23</td>\n",
       "      <td>7.28</td>\n",
       "    </tr>\n",
       "    <tr>\n",
       "      <th>4220</th>\n",
       "      <td>21</td>\n",
       "      <td>6</td>\n",
       "      <td>3800.5</td>\n",
       "      <td>29266.4</td>\n",
       "      <td>6764.1</td>\n",
       "      <td>3217.7</td>\n",
       "      <td>5062.4</td>\n",
       "      <td>946.0</td>\n",
       "      <td>40.24</td>\n",
       "      <td>7.28</td>\n",
       "    </tr>\n",
       "    <tr>\n",
       "      <th>4221</th>\n",
       "      <td>22</td>\n",
       "      <td>6</td>\n",
       "      <td>3529.7</td>\n",
       "      <td>28711.2</td>\n",
       "      <td>6745.1</td>\n",
       "      <td>3215.0</td>\n",
       "      <td>5064.4</td>\n",
       "      <td>946.0</td>\n",
       "      <td>40.10</td>\n",
       "      <td>7.28</td>\n",
       "    </tr>\n",
       "    <tr>\n",
       "      <th>4222</th>\n",
       "      <td>23</td>\n",
       "      <td>6</td>\n",
       "      <td>2650.6</td>\n",
       "      <td>26581.4</td>\n",
       "      <td>6650.9</td>\n",
       "      <td>3209.0</td>\n",
       "      <td>5065.4</td>\n",
       "      <td>946.0</td>\n",
       "      <td>38.63</td>\n",
       "      <td>7.28</td>\n",
       "    </tr>\n",
       "  </tbody>\n",
       "</table>\n",
       "<p>4223 rows × 10 columns</p>\n",
       "</div>"
      ],
      "text/plain": [
       "      hora  mes  hidraul  demanda  ciclocomb  cogener  nuclear  carbon  \\\n",
       "0        0    1   5221.1  13290.5     2500.5   2493.8   7093.6   430.0   \n",
       "1        1    1   4928.5  12720.1     2411.5   2447.8   7091.6   430.0   \n",
       "2        2    1   4860.3  12558.6     2307.5   2446.6   7092.6   417.0   \n",
       "3        3    1   4980.8  12837.5     2307.5   2436.7   7092.6   387.0   \n",
       "4        4    1   4984.3  13100.9     2374.2   2448.3   7094.6   387.0   \n",
       "...    ...  ...      ...      ...        ...      ...      ...     ...   \n",
       "4218    19    6   4230.5  29267.6     7090.4   3200.0   5061.4   946.0   \n",
       "4219    20    6   4479.3  29025.5     7130.7   3203.2   5063.4   946.0   \n",
       "4220    21    6   3800.5  29266.4     6764.1   3217.7   5062.4   946.0   \n",
       "4221    22    6   3529.7  28711.2     6745.1   3215.0   5064.4   946.0   \n",
       "4222    23    6   2650.6  26581.4     6650.9   3209.0   5065.4   946.0   \n",
       "\n",
       "      precio-elect-dia-anterior  MIBGAS-dia-anterior  \n",
       "0                         41.88                11.27  \n",
       "1                         38.60                11.27  \n",
       "2                         36.55                11.27  \n",
       "3                         32.32                11.27  \n",
       "4                         30.85                11.27  \n",
       "...                         ...                  ...  \n",
       "4218                      40.44                 7.28  \n",
       "4219                      41.23                 7.28  \n",
       "4220                      40.24                 7.28  \n",
       "4221                      40.10                 7.28  \n",
       "4222                      38.63                 7.28  \n",
       "\n",
       "[4223 rows x 10 columns]"
      ]
     },
     "execution_count": 23,
     "metadata": {},
     "output_type": "execute_result"
    }
   ],
   "source": [
    "X"
   ]
  },
  {
   "cell_type": "markdown",
   "metadata": {},
   "source": [
    "## *5. Split data*\n",
    " "
   ]
  },
  {
   "cell_type": "code",
   "execution_count": 24,
   "metadata": {},
   "outputs": [],
   "source": [
    "from sklearn.model_selection import train_test_split\n",
    "\n",
    "test_size = 0.2  # percentage of the input data that you will use to validate the model\n",
    "\n",
    "### your code here\n",
    "X_train, X_test, y_train, y_test = train_test_split(X, y, test_size=test_size, random_state=0)\n",
    "\n",
    "X_train, X_val, y_train, y_val = train_test_split(X_train, y_train, test_size=test_size, random_state=0)\n",
    "\n"
   ]
  },
  {
   "cell_type": "markdown",
   "metadata": {},
   "source": [
    "**4. Transformation (scaling, if neccesary)**. \n",
    "\n",
    "* **Scale the data using the *MinMaxScaler()* method within the range [0,1].**"
   ]
  },
  {
   "cell_type": "code",
   "execution_count": 25,
   "metadata": {},
   "outputs": [
    {
     "data": {
      "text/html": [
       "<div>\n",
       "<style scoped>\n",
       "    .dataframe tbody tr th:only-of-type {\n",
       "        vertical-align: middle;\n",
       "    }\n",
       "\n",
       "    .dataframe tbody tr th {\n",
       "        vertical-align: top;\n",
       "    }\n",
       "\n",
       "    .dataframe thead th {\n",
       "        text-align: right;\n",
       "    }\n",
       "</style>\n",
       "<table border=\"1\" class=\"dataframe\">\n",
       "  <thead>\n",
       "    <tr style=\"text-align: right;\">\n",
       "      <th></th>\n",
       "      <th>hora</th>\n",
       "      <th>mes</th>\n",
       "      <th>hidraul</th>\n",
       "      <th>demanda</th>\n",
       "      <th>ciclocomb</th>\n",
       "      <th>cogener</th>\n",
       "      <th>nuclear</th>\n",
       "      <th>carbon</th>\n",
       "      <th>precio-elect-dia-anterior</th>\n",
       "      <th>MIBGAS-dia-anterior</th>\n",
       "    </tr>\n",
       "  </thead>\n",
       "  <tbody>\n",
       "    <tr>\n",
       "      <th>0</th>\n",
       "      <td>0.000000</td>\n",
       "      <td>0.0</td>\n",
       "      <td>0.665797</td>\n",
       "      <td>0.374814</td>\n",
       "      <td>0.236761</td>\n",
       "      <td>0.357131</td>\n",
       "      <td>0.998130</td>\n",
       "      <td>0.208232</td>\n",
       "      <td>0.664823</td>\n",
       "      <td>0.688652</td>\n",
       "    </tr>\n",
       "    <tr>\n",
       "      <th>1</th>\n",
       "      <td>0.043478</td>\n",
       "      <td>0.0</td>\n",
       "      <td>0.621162</td>\n",
       "      <td>0.358728</td>\n",
       "      <td>0.226434</td>\n",
       "      <td>0.332550</td>\n",
       "      <td>0.997588</td>\n",
       "      <td>0.208232</td>\n",
       "      <td>0.611455</td>\n",
       "      <td>0.688652</td>\n",
       "    </tr>\n",
       "    <tr>\n",
       "      <th>2</th>\n",
       "      <td>0.086957</td>\n",
       "      <td>0.0</td>\n",
       "      <td>0.610758</td>\n",
       "      <td>0.354173</td>\n",
       "      <td>0.214367</td>\n",
       "      <td>0.331908</td>\n",
       "      <td>0.997859</td>\n",
       "      <td>0.201937</td>\n",
       "      <td>0.578100</td>\n",
       "      <td>0.688652</td>\n",
       "    </tr>\n",
       "    <tr>\n",
       "      <th>3</th>\n",
       "      <td>0.130435</td>\n",
       "      <td>0.0</td>\n",
       "      <td>0.629140</td>\n",
       "      <td>0.362039</td>\n",
       "      <td>0.214367</td>\n",
       "      <td>0.326618</td>\n",
       "      <td>0.997859</td>\n",
       "      <td>0.187409</td>\n",
       "      <td>0.509274</td>\n",
       "      <td>0.688652</td>\n",
       "    </tr>\n",
       "    <tr>\n",
       "      <th>4</th>\n",
       "      <td>0.173913</td>\n",
       "      <td>0.0</td>\n",
       "      <td>0.629674</td>\n",
       "      <td>0.369467</td>\n",
       "      <td>0.222106</td>\n",
       "      <td>0.332817</td>\n",
       "      <td>0.998401</td>\n",
       "      <td>0.187409</td>\n",
       "      <td>0.485356</td>\n",
       "      <td>0.688652</td>\n",
       "    </tr>\n",
       "  </tbody>\n",
       "</table>\n",
       "</div>"
      ],
      "text/plain": [
       "       hora  mes   hidraul   demanda  ciclocomb   cogener   nuclear    carbon  \\\n",
       "0  0.000000  0.0  0.665797  0.374814   0.236761  0.357131  0.998130  0.208232   \n",
       "1  0.043478  0.0  0.621162  0.358728   0.226434  0.332550  0.997588  0.208232   \n",
       "2  0.086957  0.0  0.610758  0.354173   0.214367  0.331908  0.997859  0.201937   \n",
       "3  0.130435  0.0  0.629140  0.362039   0.214367  0.326618  0.997859  0.187409   \n",
       "4  0.173913  0.0  0.629674  0.369467   0.222106  0.332817  0.998401  0.187409   \n",
       "\n",
       "   precio-elect-dia-anterior  MIBGAS-dia-anterior  \n",
       "0                   0.664823             0.688652  \n",
       "1                   0.611455             0.688652  \n",
       "2                   0.578100             0.688652  \n",
       "3                   0.509274             0.688652  \n",
       "4                   0.485356             0.688652  "
      ]
     },
     "execution_count": 25,
     "metadata": {},
     "output_type": "execute_result"
    }
   ],
   "source": [
    "from sklearn.preprocessing import MinMaxScaler\n",
    "\n",
    "scaler = MinMaxScaler()\n",
    "df_scaled = X.copy()\n",
    "X_scaled = pd.DataFrame(scaler.fit_transform(df_scaled))\n",
    "X_scaled.columns = df_scaled.columns\n",
    "X_scaled.head()"
   ]
  },
  {
   "cell_type": "markdown",
   "metadata": {},
   "source": [
    "## *6.  Model building and evaluation*"
   ]
  },
  {
   "cell_type": "markdown",
   "metadata": {},
   "source": [
    "* Select **[balanced_accuracy]** as evaluation metric. \n",
    "* Evaluation metrics available in [Scikit-Learn].\n",
    "\n",
    "\n",
    "[Scikit-Learn]: https://scikit-learn.org/stable/modules/model_evaluation.html\n",
    "\n",
    "[balanced_accuracy]: https://scikit-learn.org/stable/modules/generated/sklearn.metrics.balanced_accuracy_score.html\n",
    "\n",
    "* Remember to always use the same random_state to be able to compare results. "
   ]
  },
  {
   "cell_type": "code",
   "execution_count": 26,
   "metadata": {},
   "outputs": [
    {
     "name": "stdout",
     "output_type": "stream",
     "text": [
      "Requirement already satisfied: xgboost in /Users/bendiksherbold/opt/anaconda3/lib/python3.9/site-packages (1.7.1)\n",
      "Requirement already satisfied: numpy in /Users/bendiksherbold/opt/anaconda3/lib/python3.9/site-packages (from xgboost) (1.21.5)\n",
      "Requirement already satisfied: scipy in /Users/bendiksherbold/opt/anaconda3/lib/python3.9/site-packages (from xgboost) (1.7.3)\n",
      "Note: you may need to restart the kernel to use updated packages.\n"
     ]
    }
   ],
   "source": [
    "pip install xgboost"
   ]
  },
  {
   "cell_type": "code",
   "execution_count": 27,
   "metadata": {},
   "outputs": [],
   "source": [
    "from sklearn.linear_model import LogisticRegression\n",
    "from sklearn.ensemble import RandomForestClassifier\n",
    "from sklearn.neighbors import KNeighborsClassifier\n",
    "from sklearn.neural_network import MLPClassifier\n",
    "import xgboost as xgb\n",
    "\n",
    "num_folds = 15\n",
    "error_metrics = {'balanced_accuracy'}\n",
    "models = { ('LR', LogisticRegression(solver='saga')), \n",
    "          \n",
    "        ### your code here     \n",
    "          ('KNN',KNeighborsClassifier()), ('RF', RandomForestClassifier()),\n",
    "          ('XGB', xgb.XGBClassifier())\n",
    "        }\n",
    "results = [] # stores the results of the evaluation metrics\n",
    "names = [] # name of each algorithm\n",
    "msg = [] # print the summary of the cross-validation method\n"
   ]
  },
  {
   "cell_type": "markdown",
   "metadata": {},
   "source": [
    "* Which one obtains better results? \n",
    "* Which balanced_accuracy do you get? "
   ]
  },
  {
   "cell_type": "code",
   "execution_count": 28,
   "metadata": {
    "scrolled": true
   },
   "outputs": [
    {
     "name": "stdout",
     "output_type": "stream",
     "text": [
      "Evaluation metrics:  balanced_accuracy\n",
      "Model  KNN\n",
      "Model  LR\n"
     ]
    },
    {
     "name": "stderr",
     "output_type": "stream",
     "text": [
      "/Users/bendiksherbold/opt/anaconda3/lib/python3.9/site-packages/sklearn/linear_model/_sag.py:352: ConvergenceWarning: The max_iter was reached which means the coef_ did not converge\n",
      "  warnings.warn(\n",
      "/Users/bendiksherbold/opt/anaconda3/lib/python3.9/site-packages/sklearn/linear_model/_sag.py:352: ConvergenceWarning: The max_iter was reached which means the coef_ did not converge\n",
      "  warnings.warn(\n",
      "/Users/bendiksherbold/opt/anaconda3/lib/python3.9/site-packages/sklearn/linear_model/_sag.py:352: ConvergenceWarning: The max_iter was reached which means the coef_ did not converge\n",
      "  warnings.warn(\n",
      "/Users/bendiksherbold/opt/anaconda3/lib/python3.9/site-packages/sklearn/linear_model/_sag.py:352: ConvergenceWarning: The max_iter was reached which means the coef_ did not converge\n",
      "  warnings.warn(\n",
      "/Users/bendiksherbold/opt/anaconda3/lib/python3.9/site-packages/sklearn/linear_model/_sag.py:352: ConvergenceWarning: The max_iter was reached which means the coef_ did not converge\n",
      "  warnings.warn(\n",
      "/Users/bendiksherbold/opt/anaconda3/lib/python3.9/site-packages/sklearn/linear_model/_sag.py:352: ConvergenceWarning: The max_iter was reached which means the coef_ did not converge\n",
      "  warnings.warn(\n",
      "/Users/bendiksherbold/opt/anaconda3/lib/python3.9/site-packages/sklearn/linear_model/_sag.py:352: ConvergenceWarning: The max_iter was reached which means the coef_ did not converge\n",
      "  warnings.warn(\n",
      "/Users/bendiksherbold/opt/anaconda3/lib/python3.9/site-packages/sklearn/linear_model/_sag.py:352: ConvergenceWarning: The max_iter was reached which means the coef_ did not converge\n",
      "  warnings.warn(\n",
      "/Users/bendiksherbold/opt/anaconda3/lib/python3.9/site-packages/sklearn/linear_model/_sag.py:352: ConvergenceWarning: The max_iter was reached which means the coef_ did not converge\n",
      "  warnings.warn(\n",
      "/Users/bendiksherbold/opt/anaconda3/lib/python3.9/site-packages/sklearn/linear_model/_sag.py:352: ConvergenceWarning: The max_iter was reached which means the coef_ did not converge\n",
      "  warnings.warn(\n",
      "/Users/bendiksherbold/opt/anaconda3/lib/python3.9/site-packages/sklearn/linear_model/_sag.py:352: ConvergenceWarning: The max_iter was reached which means the coef_ did not converge\n",
      "  warnings.warn(\n",
      "/Users/bendiksherbold/opt/anaconda3/lib/python3.9/site-packages/sklearn/linear_model/_sag.py:352: ConvergenceWarning: The max_iter was reached which means the coef_ did not converge\n",
      "  warnings.warn(\n",
      "/Users/bendiksherbold/opt/anaconda3/lib/python3.9/site-packages/sklearn/linear_model/_sag.py:352: ConvergenceWarning: The max_iter was reached which means the coef_ did not converge\n",
      "  warnings.warn(\n",
      "/Users/bendiksherbold/opt/anaconda3/lib/python3.9/site-packages/sklearn/linear_model/_sag.py:352: ConvergenceWarning: The max_iter was reached which means the coef_ did not converge\n",
      "  warnings.warn(\n",
      "/Users/bendiksherbold/opt/anaconda3/lib/python3.9/site-packages/sklearn/linear_model/_sag.py:352: ConvergenceWarning: The max_iter was reached which means the coef_ did not converge\n",
      "  warnings.warn(\n"
     ]
    },
    {
     "name": "stdout",
     "output_type": "stream",
     "text": [
      "Model  RF\n",
      "Model  XGB\n",
      "[('KNN', 0.7814382966602577, 0.03669434285173084), ('LR', 0.7600632343516343, 0.05348394279343949), ('RF', 0.8774395784376557, 0.034570952332396356), ('XGB', 0.8841062451043226, 0.033298901872182866)]\n"
     ]
    },
    {
     "data": {
      "image/png": "[encoded data removed]",
      "text/plain": [
       "<Figure size 432x288 with 1 Axes>"
      ]
     },
     "metadata": {
      "needs_background": "light"
     },
     "output_type": "display_data"
    }
   ],
   "source": [
    "from sklearn.model_selection import cross_val_score, GridSearchCV\n",
    "from sklearn.model_selection import StratifiedKFold\n",
    "\n",
    "# Cross-validation training\n",
    "for scoring in error_metrics:\n",
    "    print('Evaluation metrics: ', scoring)\n",
    "    for name, model in models:\n",
    "        print('Model ', name)\n",
    "        cross_validation = StratifiedKFold(n_splits=num_folds, random_state=0, shuffle=True)\n",
    "        cv_results = cross_val_score(model, X_train, y_train, cv=cross_validation, scoring=scoring)\n",
    "        results.append(cv_results)\n",
    "        names.append(name)\n",
    "        resume = (name, cv_results.mean(), cv_results.std())\n",
    "        msg.append(resume)\n",
    "    print(msg)\n",
    "\n",
    "    # Compare results between algorithms\n",
    "    fig = plt.figure()\n",
    "    fig.suptitle('Comparison of algorithms with evaluation metrics: %s' %scoring)\n",
    "    ax = fig.add_subplot(111)\n",
    "    ax.set_xlabel('Candidate models')\n",
    "    ax.set_ylabel('%s' %scoring)\n",
    "    plt.boxplot(results)\n",
    "    ax.set_xticklabels(names)\n",
    "    plt.show()\n",
    "\n",
    "    results = []\n"
   ]
  },
  {
   "cell_type": "markdown",
   "metadata": {},
   "source": [
    "## *7. Adjust hyperparameters*.\n",
    "\n",
    "Steps to perform the hyperadjustment of the parameters:\n",
    "\n",
    "* Metric to optimize\n",
    "* Define search parameter ranges: *params*\n",
    "* Train with validation data: *X_val\n",
    "\n",
    "[XGBClassifier]:https://xgboost.readthedocs.io/en/latest/parameter.html"
   ]
  },
  {
   "cell_type": "code",
   "execution_count": 29,
   "metadata": {},
   "outputs": [
    {
     "name": "stdout",
     "output_type": "stream",
     "text": [
      "Fitting 10 folds for each of 4 candidates, totalling 40 fits\n",
      "[CV] END ............................booster=gbtree, eta=0.1; total time=   0.0s\n",
      "[CV] END ............................booster=gbtree, eta=0.1; total time=   0.0s\n",
      "[CV] END ............................booster=gbtree, eta=0.1; total time=   0.0s\n",
      "[CV] END ............................booster=gbtree, eta=0.1; total time=   0.0s\n",
      "[CV] END ............................booster=gbtree, eta=0.1; total time=   0.0s\n",
      "[CV] END ............................booster=gbtree, eta=0.1; total time=   0.0s\n",
      "[CV] END ............................booster=gbtree, eta=0.1; total time=   0.0s\n",
      "[CV] END ............................booster=gbtree, eta=0.1; total time=   0.0s\n",
      "[CV] END ............................booster=gbtree, eta=0.1; total time=   0.0s\n",
      "[CV] END ............................booster=gbtree, eta=0.1; total time=   0.1s\n",
      "[CV] END ............................booster=gbtree, eta=0.3; total time=   0.0s\n",
      "[CV] END ............................booster=gbtree, eta=0.3; total time=   0.0s\n",
      "[CV] END ............................booster=gbtree, eta=0.3; total time=   0.0s\n",
      "[CV] END ............................booster=gbtree, eta=0.3; total time=   0.0s\n",
      "[CV] END ............................booster=gbtree, eta=0.3; total time=   0.0s\n",
      "[CV] END ............................booster=gbtree, eta=0.3; total time=   0.1s\n",
      "[CV] END ............................booster=gbtree, eta=0.3; total time=   0.0s\n",
      "[CV] END ............................booster=gbtree, eta=0.3; total time=   0.1s\n",
      "[CV] END ............................booster=gbtree, eta=0.3; total time=   0.1s\n",
      "[CV] END ............................booster=gbtree, eta=0.3; total time=   0.1s\n",
      "[CV] END ..............................booster=dart, eta=0.1; total time=   0.3s\n",
      "[CV] END ..............................booster=dart, eta=0.1; total time=   0.5s\n",
      "[CV] END ..............................booster=dart, eta=0.1; total time=   0.3s\n",
      "[CV] END ..............................booster=dart, eta=0.1; total time=   0.2s\n",
      "[CV] END ..............................booster=dart, eta=0.1; total time=   0.3s\n",
      "[CV] END ..............................booster=dart, eta=0.1; total time=   0.4s\n",
      "[CV] END ..............................booster=dart, eta=0.1; total time=   0.3s\n",
      "[CV] END ..............................booster=dart, eta=0.1; total time=   0.3s\n",
      "[CV] END ..............................booster=dart, eta=0.1; total time=   0.3s\n",
      "[CV] END ..............................booster=dart, eta=0.1; total time=   0.3s\n",
      "[CV] END ..............................booster=dart, eta=0.3; total time=   0.1s\n",
      "[CV] END ..............................booster=dart, eta=0.3; total time=   0.1s\n",
      "[CV] END ..............................booster=dart, eta=0.3; total time=   0.1s\n",
      "[CV] END ..............................booster=dart, eta=0.3; total time=   0.2s\n",
      "[CV] END ..............................booster=dart, eta=0.3; total time=   0.2s\n",
      "[CV] END ..............................booster=dart, eta=0.3; total time=   0.2s\n",
      "[CV] END ..............................booster=dart, eta=0.3; total time=   0.3s\n",
      "[CV] END ..............................booster=dart, eta=0.3; total time=   0.3s\n",
      "[CV] END ..............................booster=dart, eta=0.3; total time=   0.3s\n",
      "[CV] END ..............................booster=dart, eta=0.3; total time=   0.3s\n",
      "Best result: 0.831551 using the following hyperparameters {'booster': 'gbtree', 'eta': 0.3}\n"
     ]
    }
   ],
   "source": [
    "from sklearn.model_selection import TimeSeriesSplit\n",
    "model =  xgb.XGBClassifier()    ### your code here\n",
    "params = {\n",
    "     'booster': ['gbtree', 'dart'], #default=gbtree\n",
    "     'eta': [0.1, 0.3], #default=0.3\n",
    "     # 'max_depth': [3, 6, 8],  #default=6\n",
    "     #'predictor': ['auto', 'gpu_predictor'] # default auto\n",
    " }\n",
    "scoring='balanced_accuracy'     ### your code here\n",
    "cross_validation = TimeSeriesSplit(n_splits=10)      ### your code here\n",
    "my_cv = cross_validation.split(X_val, y_val)\n",
    "gsearch = GridSearchCV(estimator=model, param_grid=params, scoring=scoring, cv=my_cv, verbose=2)\n",
    "gsearch.fit(X_val, y_val)\n",
    "\n",
    "print(\"Best result: %f using the following hyperparameters %s\" % (gsearch.best_score_, gsearch.best_params_))\n",
    "means = gsearch.cv_results_['mean_test_score']\n",
    "stds = gsearch.cv_results_['std_test_score']\n",
    "params = gsearch.cv_results_['params']\n"
   ]
  },
  {
   "cell_type": "markdown",
   "metadata": {},
   "source": [
    "## *8.  Final evaluation of the model*\n",
    "\n"
   ]
  },
  {
   "cell_type": "markdown",
   "metadata": {},
   "source": [
    "Evaluation metrics:\n",
    "  * 1. Confusion matrix\n",
    "  * 2. Matthews Coefficient\n",
    "\n",
    "    \n",
    "**Train the model with the optimal hyperparameters found in the previous section and make the predictions**. "
   ]
  },
  {
   "cell_type": "code",
   "execution_count": 30,
   "metadata": {},
   "outputs": [],
   "source": [
    "finalModel = xgb.XGBClassifier(booster= 'gbtree', eta=0.3)     ### your code here\n",
    "\n",
    "finalModel.fit(X_train,y_train)  \n",
    "y_predict = finalModel.predict(X_test)  \n"
   ]
  },
  {
   "cell_type": "markdown",
   "metadata": {},
   "source": [
    "**1. Confusion matrix**"
   ]
  },
  {
   "cell_type": "code",
   "execution_count": 31,
   "metadata": {},
   "outputs": [],
   "source": [
    "from sklearn.metrics import confusion_matrix, classification_report, plot_confusion_matrix\n",
    "\n",
    "confusion_matrix = confusion_matrix(y_test, y_predict)### your code here\n"
   ]
  },
  {
   "cell_type": "code",
   "execution_count": 32,
   "metadata": {},
   "outputs": [
    {
     "name": "stdout",
     "output_type": "stream",
     "text": [
      "              precision    recall  f1-score   support\n",
      "\n",
      "           0       0.97      0.97      0.97       693\n",
      "           1       0.85      0.86      0.85       152\n",
      "\n",
      "    accuracy                           0.95       845\n",
      "   macro avg       0.91      0.91      0.91       845\n",
      "weighted avg       0.95      0.95      0.95       845\n",
      "\n",
      "[[670  23]\n",
      " [ 22 130]]\n"
     ]
    }
   ],
   "source": [
    "print(classification_report(y_test, y_predict))\n",
    "print(confusion_matrix)"
   ]
  },
  {
   "cell_type": "code",
   "execution_count": 33,
   "metadata": {},
   "outputs": [
    {
     "name": "stderr",
     "output_type": "stream",
     "text": [
      "/Users/bendiksherbold/opt/anaconda3/lib/python3.9/site-packages/sklearn/utils/deprecation.py:87: FutureWarning: Function plot_confusion_matrix is deprecated; Function `plot_confusion_matrix` is deprecated in 1.0 and will be removed in 1.2. Use one of the class methods: ConfusionMatrixDisplay.from_predictions or ConfusionMatrixDisplay.from_estimator.\n",
      "  warnings.warn(msg, category=FutureWarning)\n"
     ]
    },
    {
     "data": {
      "image/png": "[encoded data removed]",
      "text/plain": [
       "<Figure size 432x288 with 2 Axes>"
      ]
     },
     "metadata": {
      "needs_background": "light"
     },
     "output_type": "display_data"
    }
   ],
   "source": [
    "# Non-normalized graph of the martiz of confusion\n",
    "\n",
    "disp = plot_confusion_matrix(finalModel, X_test, y_test,\n",
    "                                 cmap=plt.cm.Blues, values_format = '')"
   ]
  },
  {
   "cell_type": "markdown",
   "metadata": {},
   "source": [
    "**2. Matthews Coeficient (MCC)**\n",
    "\n",
    "The MCC uses correlation coefficients between -1 and +1. \n",
    "* Coefficient +1 represents a perfect prediction.\n",
    "* Coefficient 0 represents a random mean prediction.\n",
    "* Coefficient -1 represents an inverse prediction. "
   ]
  },
  {
   "cell_type": "code",
   "execution_count": 34,
   "metadata": {},
   "outputs": [
    {
     "data": {
      "text/plain": [
       "0.8199750299749626"
      ]
     },
     "execution_count": 34,
     "metadata": {},
     "output_type": "execute_result"
    }
   ],
   "source": [
    "from sklearn.metrics import matthews_corrcoef\n",
    "\n",
    "### your code here\n",
    "matthews_corrcoef(y_test,y_predict)\n"
   ]
  },
  {
   "cell_type": "code",
   "execution_count": null,
   "metadata": {},
   "outputs": [],
   "source": []
  }
 ],
 "metadata": {
  "kernelspec": {
   "display_name": "Python 3 (ipykernel)",
   "language": "python",
   "name": "python3"
  },
  "language_info": {
   "codemirror_mode": {
    "name": "ipython",
    "version": 3
   },
   "file_extension": ".py",
   "mimetype": "text/x-python",
   "name": "python",
   "nbconvert_exporter": "python",
   "pygments_lexer": "ipython3",
   "version": "3.9.12"
  }
 },
 "nbformat": 4,
 "nbformat_minor": 2
}
